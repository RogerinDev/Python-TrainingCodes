{
 "cells": [
  {
   "cell_type": "markdown",
   "id": "5d33ac61",
   "metadata": {},
   "source": [
    "Versão com Lista"
   ]
  },
  {
   "cell_type": "code",
   "execution_count": 11,
   "id": "4c7c61d1",
   "metadata": {},
   "outputs": [
    {
     "name": "stdout",
     "output_type": "stream",
     "text": [
      "Lista Aleatória:\n",
      "[11, 3, 8, 17, 13, 12, 17, 12, 19, 11, 16]\n",
      "\n",
      "Primos dentro da lista:\n",
      "[11, 3, 17, 13, 17, 19, 11]\n",
      "\n",
      "Lista do Fibonacci [0, 1, 1, 2, 3, 5, 8, 13, 21, 34, 55, 89]\n"
     ]
    }
   ],
   "source": [
    "import random\n",
    "\n",
    "def testprim(num):\n",
    "    if num <= 1:\n",
    "        return 0\n",
    "    elif num == 2:\n",
    "        return 1\n",
    "    for i in range(2,num):\n",
    "        if num % i == 0:\n",
    "            return 0\n",
    "    else:\n",
    "        return 1\n",
    "\n",
    "def Fibonacci(num):\n",
    "    Fibonacci = [0, 1]\n",
    "    a,b,c= 0,1,0\n",
    "    for i in range(0,num):\n",
    "        Fibonacci.append(a+b)\n",
    "        c = a\n",
    "        a = b\n",
    "        b = c+a\n",
    "    return print(f'Lista do Fibonacci {Fibonacci}')\n",
    "\n",
    "\n",
    "\n",
    "\n",
    "\n",
    "listale = []\n",
    "for i in range (0,11):\n",
    "    listale.append(random.randint(1,21))\n",
    "\n",
    "primos = []\n",
    "\n",
    "for i in listale:\n",
    "    if testprim(i):\n",
    "        primos.append(i)\n",
    "\n",
    "print(f'Lista Aleatória:\\n{listale}\\n')\n",
    "print(f'Primos dentro da lista:\\n{primos}\\n')\n",
    "\n",
    "Fibonacci(int(input('Informe um valor para o Fibonacci')))\n",
    "\n"
   ]
  },
  {
   "cell_type": "markdown",
   "id": "1617884f",
   "metadata": {},
   "source": [
    "Versão com conjunto!"
   ]
  },
  {
   "cell_type": "code",
   "execution_count": 8,
   "id": "21f3b16d",
   "metadata": {},
   "outputs": [
    {
     "name": "stdout",
     "output_type": "stream",
     "text": [
      "Conjunto Aleatório:\n",
      "{2, 3, 4, 5, 8, 12, 14, 15, 18, 19}\n",
      "\n",
      "Primos dentro Conjunto\n",
      "{19, 2, 3, 5}\n",
      "\n",
      "Lista Fibonacci:\n",
      "{0, 1, 2, 3, 34, 5, 8, 13, 21, 55, 89}\n",
      "\n",
      "Intersecção dos dois conjuntos:\n",
      " {2, 3, 5}\n"
     ]
    }
   ],
   "source": [
    "import random\n",
    "\n",
    "def testprim(num):\n",
    "    if num <= 1:\n",
    "        return 0\n",
    "    elif num == 2:\n",
    "        return 1\n",
    "    for i in range(2,num):\n",
    "        if num % i == 0:\n",
    "            return 0\n",
    "    else:\n",
    "        return 1\n",
    "\n",
    "def Fibonacci(num):\n",
    "    Fibonacci = {0}\n",
    "    a,b,c= 0,1,0\n",
    "    for i in range(0,num):\n",
    "        Fibonacci.add(a+b)\n",
    "        c = a\n",
    "        a = b\n",
    "        b = c+a\n",
    "    return Fibonacci\n",
    "\n",
    "\n",
    "\n",
    "\n",
    "\n",
    "listale = set()\n",
    "for i in range (0,10):\n",
    "    listale.add(random.randint(1,21))\n",
    "\n",
    "primos = set()\n",
    "\n",
    "for i in listale:\n",
    "    if testprim(i):\n",
    "        primos.add(i)\n",
    "\n",
    "print(f'Conjunto Aleatório:\\n{listale}\\n')\n",
    "print(f'Primos dentro Conjunto\\n{primos}\\n')\n",
    "\n",
    "fib = Fibonacci(int(input('Informe um valor para o Fibonacci')))\n",
    "print(f'Lista Fibonacci:\\n{fib}\\n')\n",
    "\n",
    "\n",
    "print(f'Intersecção dos dois conjuntos:\\n {primos&fib}')\n",
    "\n"
   ]
  },
  {
   "cell_type": "code",
   "execution_count": 1,
   "id": "f765f123",
   "metadata": {},
   "outputs": [
    {
     "name": "stdout",
     "output_type": "stream",
     "text": [
      "[21, 12, 4, 7, 13, 19, 18, 20, 11, 14]\n"
     ]
    }
   ],
   "source": [
    "import random\n",
    "\n",
    "x = random.sample(range(1, 22), 10)\n",
    "\n",
    "print(x)"
   ]
  },
  {
   "cell_type": "markdown",
   "id": "4e2351b3",
   "metadata": {},
   "source": []
  }
 ],
 "metadata": {
  "kernelspec": {
   "display_name": ".venv",
   "language": "python",
   "name": "python3"
  },
  "language_info": {
   "codemirror_mode": {
    "name": "ipython",
    "version": 3
   },
   "file_extension": ".py",
   "mimetype": "text/x-python",
   "name": "python",
   "nbconvert_exporter": "python",
   "pygments_lexer": "ipython3",
   "version": "3.11.2"
  }
 },
 "nbformat": 4,
 "nbformat_minor": 5
}
