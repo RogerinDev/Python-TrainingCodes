{
 "cells": [
  {
   "cell_type": "code",
   "execution_count": 2,
   "id": "9de85c55",
   "metadata": {},
   "outputs": [
    {
     "name": "stdout",
     "output_type": "stream",
     "text": [
      "apple\n",
      "banana\n",
      "['apple', 'banana']\n"
     ]
    }
   ],
   "source": [
    "class Container:\n",
    "    def __init__(self):\n",
    "        self.items = []\n",
    "\n",
    "    def add_item(self, item):\n",
    "        self.items.append(item)\n",
    "\n",
    "    def get_items(self):\n",
    "        return self.items\n",
    "\n",
    "    def mostrar_items(self):\n",
    "        for i in items:\n",
    "            print(i)\n",
    "\n",
    "\n",
    "container = Container()\n",
    "\n",
    "container.add_item(\"apple\")\n",
    "container.add_item(\"banana\")\n",
    "\n",
    "\n",
    "items = container.get_items()\n",
    "\n",
    "container.mostrar_items()\n",
    "\n",
    "print(items)"
   ]
  },
  {
   "cell_type": "code",
   "execution_count": 3,
   "id": "b08a9d78",
   "metadata": {},
   "outputs": [
    {
     "name": "stdout",
     "output_type": "stream",
     "text": [
      "banana\n"
     ]
    }
   ],
   "source": [
    "class Container:\n",
    "    def __init__(self):\n",
    "        self.items = []\n",
    "    def add_item(self, item):\n",
    "        self.items.append(item)\n",
    "    def remove_item(self, item):\n",
    "        self.items.remove(item)\n",
    "    def show(self):\n",
    "        for item in self.items:\n",
    "            print(item) \n",
    "\n",
    "\n",
    "container = Container()\n",
    "container.add_item(\"apple\")\n",
    "container.add_item(\"banana\")\n",
    "container.remove_item(\"apple\")\n",
    "\n",
    "container.show()\n"
   ]
  },
  {
   "cell_type": "code",
   "execution_count": null,
   "id": "a9bbde5f",
   "metadata": {},
   "outputs": [
    {
     "name": "stdout",
     "output_type": "stream",
     "text": [
      "Foi Adicionado\n",
      "Não foi adicionado\n",
      "Foi Adicionado\n",
      "2\n"
     ]
    }
   ],
   "source": [
    "class Container:\n",
    "    def __init__(self):\n",
    "        self.items = []\n",
    "\n",
    "    def add_item(self, item):\n",
    "        if item not in self.items:\n",
    "            self.items.append(item)\n",
    "\n",
    "    def count_items(self):\n",
    "        return print(f'{len(self.items)}')\n",
    "\n",
    "\n",
    "container = Container()\n",
    "container.add_item(\"apple\")\n",
    "container.add_item(\"apple\")\n",
    "container.add_item(\"banana\")\n",
    "count = container.count_items()"
   ]
  },
  {
   "cell_type": "code",
   "execution_count": 13,
   "id": "f9d7edb1",
   "metadata": {},
   "outputs": [
    {
     "name": "stdout",
     "output_type": "stream",
     "text": [
      "{'pen': 13, 'notebook': 5}\n"
     ]
    }
   ],
   "source": [
    "class Inventory:\n",
    "    def __init__(self):\n",
    "        self.items = {}\n",
    "\n",
    "    def add_item(self, item, quantity):\n",
    "    # Complete o método add_item\n",
    "        if item in self.items:\n",
    "            self.items[item] += quantity\n",
    "        else:\n",
    "            self.items[item] = quantity\n",
    "\n",
    "    def get_items(self):\n",
    "        return self.items\n",
    "\n",
    "# Código de teste\n",
    "inventory = Inventory()\n",
    "inventory.add_item(\"pen\", 10)\n",
    "inventory.add_item(\"notebook\", 5)\n",
    "inventory.add_item(\"pen\", 3)\n",
    "\n",
    "print(inventory.get_items()) # Deve imprimir {'pen': 13, 'notebook': 5}"
   ]
  },
  {
   "cell_type": "markdown",
   "id": "f1bf8466",
   "metadata": {},
   "source": [
    "EXERCÍCIO DA ESCOLA"
   ]
  },
  {
   "cell_type": "code",
   "execution_count": 23,
   "id": "cc9cc39b",
   "metadata": {},
   "outputs": [
    {
     "name": "stdout",
     "output_type": "stream",
     "text": [
      "TURMA 3º Pérola: \n",
      "- Rogério\n",
      "- Iwry\n",
      "- Joninha\n",
      "- Wender\n",
      "\n",
      " Aluno Excluido: Wender\n",
      "\n",
      "TURMA 3º Pérola: \n",
      "- Rogério\n",
      "- Iwry\n",
      "- Joninha\n",
      "\n",
      "TURMA 3º Pérola EXCLUIDA!\n",
      "\n"
     ]
    }
   ],
   "source": [
    "class Turma:\n",
    "    def __init__(self,name):\n",
    "        self.alunos = []\n",
    "        self.nometur = name\n",
    "\n",
    "    def adicionar_alu(self, nome):\n",
    "        self.alunos.append(nome)\n",
    "\n",
    "    def remover_alu(self,nome):\n",
    "        if nome not in self.alunos:\n",
    "            print(\"\\nALUNO NÃO ENCONTRADO!\\n\")\n",
    "        else:\n",
    "            self.alunos.remove(nome)\n",
    "            print(f\"\\n Aluno Excluido: {nome}\\n\")\n",
    "\n",
    "    def listarturma(self):\n",
    "        print(f\"TURMA {self.nometur}: \")\n",
    "        for i in self.alunos:\n",
    "            print(f\"- {i}\")\n",
    "\n",
    "    def __del__(self):\n",
    "        print(f\"\\nTURMA {self.nometur} EXCLUIDA!\\n\")\n",
    "\n",
    "perola = Turma(\"3º Pérola\")\n",
    "\n",
    "perola.adicionar_alu(\"Rogério\")\n",
    "perola.adicionar_alu(\"Iwry\")\n",
    "perola.adicionar_alu(\"Joninha\")\n",
    "perola.adicionar_alu(\"Wender\")\n",
    "\n",
    "perola.listarturma()\n",
    "perola.remover_alu(\"Wender\")\n",
    "perola.listarturma()\n",
    "\n",
    "del perola"
   ]
  },
  {
   "cell_type": "code",
   "execution_count": 33,
   "id": "13a2bcc2",
   "metadata": {},
   "outputs": [
    {
     "name": "stdout",
     "output_type": "stream",
     "text": [
      "10\n",
      "Este é um método protegido\n",
      "10\n"
     ]
    }
   ],
   "source": [
    "class MinhaClasse:\n",
    "    def __init__(self):\n",
    "        self._atributo_protegido = 10 # Convenção para protegido\n",
    "\n",
    "    def _metodo_protegido(self):\n",
    "        return \"Este é um método protegido\"\n",
    "\n",
    "class SubClasse(MinhaClasse):\n",
    "    def mostrar_protegido(self):\n",
    "        print(self._atributo_protegido) # Acessível na subclasse\n",
    "        print(self._metodo_protegido()) # Acessível na subclasse\n",
    "\n",
    "obj_sub = SubClasse()\n",
    "obj_sub.mostrar_protegido() # Funciona\n",
    "\n",
    "# Embora tecnicamente possível, não é recomendado acessar diretamente de fora:\n",
    "print(obj_sub._atributo_protegido)"
   ]
  },
  {
   "cell_type": "code",
   "execution_count": 42,
   "id": "3437c08d",
   "metadata": {},
   "outputs": [
    {
     "name": "stdout",
     "output_type": "stream",
     "text": [
      "1500\n"
     ]
    }
   ],
   "source": [
    "class BankAccount:\n",
    "    def __init__(self, balance):\n",
    "        self.__balance = balance\n",
    "\n",
    "    def deposit(self, amount):\n",
    "        self.__balance += amount    \n",
    "\n",
    "    def balance(self):\n",
    "        return self.__balance\n",
    "\n",
    "account = BankAccount(1000)\n",
    "account.deposit(500)\n",
    "print(account.balance())\n",
    "\n"
   ]
  },
  {
   "cell_type": "code",
   "execution_count": 54,
   "id": "f22ecb33",
   "metadata": {},
   "outputs": [
    {
     "name": "stdout",
     "output_type": "stream",
     "text": [
      "Titular:Alice\n",
      "Saldo: R$1500.00\n",
      "\n",
      "Titular:Alice\n",
      "Saldo: R$1407.00\n",
      "\n"
     ]
    }
   ],
   "source": [
    "class ContaBancaria:\n",
    "    def __init__(self,titular,saldo_inicial):\n",
    "        self.__titular = titular \n",
    "        self.__saldo = saldo_inicial\n",
    "\n",
    "    def deposito(self,dep):\n",
    "        self.__saldo += dep\n",
    "\n",
    "    def sacar(self,sac):\n",
    "        if self.__saldo < sac:\n",
    "            print(\"\\nSaldo Insuficiente!\\n\")\n",
    "        else:\n",
    "            self.__saldo -= sac\n",
    "\n",
    "    def saldo(self):\n",
    "        print(f\"Titular:{self.__titular}\\nSaldo: R${self.__saldo:.2f}\\n\")\n",
    "\n",
    "conta = ContaBancaria(\"Alice\", 1000)\n",
    "\n",
    "conta.deposito(500)\n",
    "conta.saldo()\n",
    "\n",
    "conta.sacar(93)    \n",
    "conta.saldo()\n"
   ]
  },
  {
   "cell_type": "markdown",
   "id": "2affa29f",
   "metadata": {},
   "source": [
    "Método da Classe (@classmethod | self = *cls* \"Novo self é o cls do Class method\")"
   ]
  },
  {
   "cell_type": "code",
   "execution_count": 6,
   "id": "6509ab4e",
   "metadata": {},
   "outputs": [
    {
     "name": "stdout",
     "output_type": "stream",
     "text": [
      "1\n",
      "2\n",
      "3\n",
      "Existem atualmente 3 animais.\n",
      "49\n"
     ]
    }
   ],
   "source": [
    "class Animal:\n",
    "    contador = 0\n",
    "\n",
    "    def __init__(self,nome):\n",
    "        self.nome = nome\n",
    "        Animal.contador += 1\n",
    "        print(Animal.contador)\n",
    "\n",
    "    @classmethod\n",
    "    def quantidade_de_animais(cls):\n",
    "        return cls.contador\n",
    "\n",
    "    @classmethod\n",
    "    def potencia(cls,num,num2):\n",
    "        return num ** num2\n",
    "\n",
    "animal1 = Animal(\"Cachorro\")\n",
    "animal2 = Animal(\"Gato\")\n",
    "animal3 = Animal(\"Peru\")\n",
    "\n",
    "quantidade = Animal.quantidade_de_animais()\n",
    "\n",
    "print(f\"Existem atualmente {quantidade} animais.\")\n",
    "\n",
    "print(Animal.potencia(7,2))"
   ]
  },
  {
   "cell_type": "markdown",
   "id": "81e51376",
   "metadata": {},
   "source": [
    "Exercício 14"
   ]
  },
  {
   "cell_type": "code",
   "execution_count": 8,
   "id": "765b9664",
   "metadata": {},
   "outputs": [
    {
     "name": "stdout",
     "output_type": "stream",
     "text": [
      "3\n"
     ]
    }
   ],
   "source": [
    "class Empregado:\n",
    "    empregado_count = 0 \n",
    "\n",
    "    def __init__(self,nome):\n",
    "        self.nome = nome\n",
    "        Empregado.incrementa_empregado_count()\n",
    "\n",
    "    @classmethod\n",
    "    def incrementa_empregado_count(cls):\n",
    "        cls.empregado_count += 1\n",
    "\n",
    "emp1 = Empregado(\"Lala Linda do Rogerin\")\n",
    "emp2 = Empregado(\"Rogerin Fein e Piruzin da Lala\")\n",
    "emp3 = Empregado(\"Futuro(a) filho(a) da Lala com o Rogerin\")\n",
    "\n",
    "print(Empregado.empregado_count)"
   ]
  },
  {
   "cell_type": "markdown",
   "id": "6b9a819a",
   "metadata": {},
   "source": [
    "Exercicio 15"
   ]
  },
  {
   "cell_type": "code",
   "execution_count": 19,
   "id": "e2a9908c",
   "metadata": {},
   "outputs": [
    {
     "name": "stdout",
     "output_type": "stream",
     "text": [
      "Lala tem 19 anos\n",
      "Rogerin tem 21 anos\n"
     ]
    }
   ],
   "source": [
    "class Pessoa:\n",
    "    def __init__(self,nome,ano_nasci):\n",
    "        self.nome = nome\n",
    "        self.ano_nas = ano_nasci\n",
    "\n",
    "    @classmethod\n",
    "    def calcular_idade(cls,ano_atual,pessoa):\n",
    "        return ano_atual-pessoa.ano_nas \n",
    "\n",
    "ano_atual = 2025\n",
    "pessoa1 = Pessoa('Lala', 2006)\n",
    "pessoa2 = Pessoa('Rogerin', 2004)\n",
    "\n",
    "idadelala = Pessoa.calcular_idade(ano_atual,pessoa1)\n",
    "idaderogerin = Pessoa.calcular_idade(ano_atual,pessoa2)\n",
    "print(f\"{pessoa1.nome} tem {idadelala} anos\")\n",
    "print(f\"{pessoa2.nome} tem {idaderogerin} anos\")"
   ]
  },
  {
   "cell_type": "code",
   "execution_count": null,
   "id": "e1357fc9",
   "metadata": {},
   "outputs": [
    {
     "name": "stdout",
     "output_type": "stream",
     "text": [
      "Soma: 8\n",
      "Subtração: 3\n"
     ]
    }
   ],
   "source": [
    "class MathUtils:\n",
    "    @staticmethod\n",
    "    def add(a, b):\n",
    "        return a + b\n",
    "    @staticmethod\n",
    "    def subtract(a, b):\n",
    "        return a - b\n",
    "\n",
    "sum_result = MathUtils.add(5, 3)\n",
    "diff_result = MathUtils.subtract(10, 7)\n",
    "print(\"Soma:\", sum_result)\n",
    "# Saída: Soma: 8\n",
    "print(\"Subtração:\", diff_result) # Saída: Subtração: 3"
   ]
  },
  {
   "cell_type": "code",
   "execution_count": 45,
   "id": "4b954f34",
   "metadata": {},
   "outputs": [
    {
     "name": "stdout",
     "output_type": "stream",
     "text": [
      "[2, 3, 5, 7, 11, 13, 17, 19]\n",
      "[0, 1, 1, 2, 3, 5, 8, 13, 21, 34, 55, 89, 144, 233, 377, 610, 987, 1597, 2584, 4181]\n"
     ]
    }
   ],
   "source": [
    "def testepri(num):\n",
    "    if num <= 1:\n",
    "        return False\n",
    "    elif num == 2:\n",
    "        return True\n",
    "    for i in range(2, num):\n",
    "        if num % i == 0:\n",
    "            return False\n",
    "    \n",
    "    return True\n",
    "\n",
    "\n",
    "fibonacci = []\n",
    "primos = []\n",
    "a = 0  #1\n",
    "b = 1 #1 \n",
    "c = 0 #1 \n",
    "\n",
    "for i in range (0,20):\n",
    "    fibonacci.append(a)\n",
    "    c = a+b\n",
    "    a = b\n",
    "    b = c\n",
    "\n",
    "for j in range (0,20):\n",
    "    if testepri(j):\n",
    "        primos.append(j)\n",
    "\n",
    "print(primos)\n",
    "print(fibonacci)"
   ]
  },
  {
   "cell_type": "code",
   "execution_count": 51,
   "id": "5052e820",
   "metadata": {},
   "outputs": [
    {
     "name": "stdout",
     "output_type": "stream",
     "text": [
      "[2, 3, 5, 13, 89, 233, 1597]\n"
     ]
    }
   ],
   "source": [
    "def testepri(num):\n",
    "    if num <= 1:\n",
    "        return False\n",
    "    elif num == 2:\n",
    "        return True\n",
    "    for i in range(2, num):\n",
    "        if num % i == 0:\n",
    "            return False\n",
    "    \n",
    "    return True\n",
    "\n",
    "\n",
    "fibonacci = set()\n",
    "primos = set()\n",
    "a = 0  #1\n",
    "b = 1 #1 \n",
    "c = 0 #1 \n",
    "\n",
    "for i in range (0,10001):\n",
    "    fibonacci.add(a)\n",
    "    c = a+b\n",
    "    a = b\n",
    "    b = c\n",
    "\n",
    "for j in range (0,10001):\n",
    "    if testepri(j):\n",
    "        primos.add(j)\n",
    "\n",
    "print(sorted(primos&fibonacci))"
   ]
  },
  {
   "cell_type": "code",
   "execution_count": 54,
   "id": "2b2477c3",
   "metadata": {},
   "outputs": [
    {
     "name": "stdout",
     "output_type": "stream",
     "text": [
      "[2, 3, 5, 13, 89, 233, 1597]\n",
      "[0, 1, 2, 3, 5, 8, 13, 21, 34, 55, 89, 144, 233, 377, 610, 987, 1597, 2584, 4181, 6765]\n"
     ]
    }
   ],
   "source": [
    "def testepri(num):\n",
    "    if num <= 1:\n",
    "        return False\n",
    "    elif num == 2:\n",
    "        return True\n",
    "    for i in range(2, num):\n",
    "        if num % i == 0:\n",
    "            return False\n",
    "    \n",
    "    return True\n",
    "\n",
    "\n",
    "fibonacci = set()\n",
    "primos = set()\n",
    "a = 0  #1\n",
    "b = 1 #1 \n",
    "c = 0 #1 \n",
    "\n",
    "while a < 10000:\n",
    "    fibonacci.add(a)\n",
    "    c = a+b\n",
    "    a = b\n",
    "    b = c\n",
    "\n",
    "for j in range (0,10001):\n",
    "    if testepri(j):\n",
    "        primos.add(j)\n",
    "\n",
    "print(sorted(primos&fibonacci))\n",
    "\n",
    "print(sorted(fibonacci))"
   ]
  },
  {
   "cell_type": "code",
   "execution_count": 55,
   "id": "49e6bb63",
   "metadata": {},
   "outputs": [
    {
     "name": "stdout",
     "output_type": "stream",
     "text": [
      "Produto Sabão adicionado ao estoque.\n",
      "Produto Detergente adicionado ao estoque.\n",
      "Produto Bolacha adicionado ao estoque.\n",
      "\n",
      "Estoque atual:\n",
      "- Sabão | Preço: R$50.00 | Quantidade: 2\n",
      "- Detergente | Preço: R$2.50 | Quantidade: 3\n",
      "- Bolacha | Preço: R$5.00 | Quantidade: 50\n",
      "\n",
      "Produto Bolacha removido do estoque.\n",
      "\n",
      "Estoque atual:\n",
      "- Sabão | Preço: R$55.00 | Quantidade: 2\n",
      "- Detergente | Preço: R$2.50 | Quantidade: 3\n",
      "\n"
     ]
    }
   ],
   "source": [
    "class Produto:\n",
    "    def __init__(self, nome, preco, qtd):\n",
    "        self.nome = nome\n",
    "        self.__preco = preco   # atributo privado\n",
    "        self.qtd = qtd\n",
    "\n",
    "    # Getter do preço\n",
    "    def get_preco(self):\n",
    "        return self.__preco\n",
    "\n",
    "    # Setter do preço\n",
    "    def set_preco(self, novo_preco):\n",
    "        if novo_preco >= 0:\n",
    "            self.__preco = novo_preco\n",
    "        else:\n",
    "            print('Preço inválido!')\n",
    "\n",
    "    def __str__(self):\n",
    "        return f'{self.nome} | Preço: R${self.get_preco():.2f} | Quantidade: {self.qtd}'\n",
    "\n",
    "\n",
    "class Estoque:\n",
    "    def __init__(self):\n",
    "        self.estoque = []\n",
    "\n",
    "    def adicionar_estoque(self, prod):\n",
    "        self.estoque.append(prod)\n",
    "        print(f'Produto {prod.nome} adicionado ao estoque.')\n",
    "\n",
    "    def remover_estoque(self, nome_produto):\n",
    "        for prod in self.estoque:\n",
    "            if prod.nome == nome_produto:\n",
    "                self.estoque.remove(prod)\n",
    "                print(f'Produto {nome_produto} removido do estoque.')\n",
    "                return\n",
    "        print('Produto não encontrado!')\n",
    "\n",
    "    def listar_estoque(self):\n",
    "        if not self.estoque:\n",
    "            print('Estoque vazio.')\n",
    "        else:\n",
    "            print('\\nEstoque atual:')\n",
    "            for prod in self.estoque:\n",
    "                print(f'- {prod}')\n",
    "            print('')\n",
    "\n",
    "\n",
    "# 🔥 Teste do código\n",
    "produto1 = Produto(\"Sabão\", 50, 2)\n",
    "produto2 = Produto(\"Detergente\", 2.50, 3)\n",
    "produto3 = Produto(\"Bolacha\", 5, 50)\n",
    "\n",
    "estoque_geral = Estoque()\n",
    "\n",
    "estoque_geral.adicionar_estoque(produto1)\n",
    "estoque_geral.adicionar_estoque(produto2)\n",
    "estoque_geral.adicionar_estoque(produto3)\n",
    "\n",
    "estoque_geral.listar_estoque()\n",
    "\n",
    "# Exemplo de alteração de preço\n",
    "produto1.set_preco(55)\n",
    "\n",
    "# Remoção por nome\n",
    "estoque_geral.remover_estoque(\"Bolacha\")\n",
    "\n",
    "estoque_geral.listar_estoque()\n"
   ]
  },
  {
   "cell_type": "code",
   "execution_count": 2,
   "id": "56a832ff",
   "metadata": {},
   "outputs": [
    {
     "name": "stdout",
     "output_type": "stream",
     "text": [
      "\n",
      "    ==============================================\n",
      "                    CHÁ DE BEBÊ\n",
      "    ==============================================\n",
      "\n",
      "    Nome dos Pais estão esperando ansiosamente pela\n",
      "    chegada do(a) pequeno(a) Nome do Bebê!\n",
      "\n",
      "    Venha fazer parte desse momento tão especial.\n",
      "\n",
      "    📅 Data: 00/00/2025\n",
      "    ⏰ Horário: 00:00\n",
      "    📍 Local: Endereço do Evento\n",
      "\n",
      "    Esperamos você para celebrar esse momento especial conosco!\n",
      "\n",
      "    Não falte! Sua presença tornará esse dia ainda mais especial. 💖👶🍼\n",
      "\n",
      "    ==============================================\n",
      "    \n"
     ]
    }
   ],
   "source": [
    "def gerar_convite():\n",
    "    # Dados do convite (genéricos, você pode alterar)\n",
    "    nome_bebe = \"Nome do Bebê\"\n",
    "    nome_pais = \"Nome dos Pais\"\n",
    "    data = \"00/00/2025\"\n",
    "    hora = \"00:00\"\n",
    "    local = \"Endereço do Evento\"\n",
    "    mensagem = \"Esperamos você para celebrar esse momento especial conosco!\"\n",
    "\n",
    "    # Layout do convite\n",
    "    convite = f\"\"\"\n",
    "    ==============================================\n",
    "                    CHÁ DE BEBÊ\n",
    "    ==============================================\n",
    "\n",
    "    {nome_pais} estão esperando ansiosamente pela\n",
    "    chegada do(a) pequeno(a) {nome_bebe}!\n",
    "\n",
    "    Venha fazer parte desse momento tão especial.\n",
    "\n",
    "    📅 Data: {data}\n",
    "    ⏰ Horário: {hora}\n",
    "    📍 Local: {local}\n",
    "\n",
    "    {mensagem}\n",
    "\n",
    "    Não falte! Sua presença tornará esse dia ainda mais especial. 💖👶🍼\n",
    "\n",
    "    ==============================================\n",
    "    \"\"\"\n",
    "\n",
    "    print(convite)\n",
    "\n",
    "# Executar a função para gerar o convite\n",
    "gerar_convite()\n"
   ]
  }
 ],
 "metadata": {
  "kernelspec": {
   "display_name": ".venv",
   "language": "python",
   "name": "python3"
  },
  "language_info": {
   "codemirror_mode": {
    "name": "ipython",
    "version": 3
   },
   "file_extension": ".py",
   "mimetype": "text/x-python",
   "name": "python",
   "nbconvert_exporter": "python",
   "pygments_lexer": "ipython3",
   "version": "3.11.2"
  }
 },
 "nbformat": 4,
 "nbformat_minor": 5
}
