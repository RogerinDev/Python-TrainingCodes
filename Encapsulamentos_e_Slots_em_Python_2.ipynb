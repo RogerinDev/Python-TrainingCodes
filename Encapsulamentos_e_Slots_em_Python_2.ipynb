{
  "cells": [
    {
      "cell_type": "markdown",
      "metadata": {
        "id": "20IXoMI3jmqI"
      },
      "source": [
        "# Encapsulamento e slots em Python#\n",
        "\n",
        "* Uma classe contêiner em Python é uma classe que contém outros objetos ou instâncias de classes, permitindo agrupar dados relacionados e fornecer uma maneira organizada de acessá-los e manipulá-los.\n",
        "* Em Python, existem várias classes contêiner built-in, como listas, tuplas, conjuntos (sets) e dicionários.\n",
        "* No entanto, você também pode criar suas próprias classes contêiner personalizadas, definindo os métodos especiais apropriados para a manipulação dos elementos contidos.\n"
      ]
    },
    {
      "cell_type": "code",
      "execution_count": null,
      "metadata": {
        "colab": {
          "base_uri": "https://localhost:8080/"
        },
        "id": "AxsBs_4Pj8Oi",
        "outputId": "098f956c-9e0a-4156-f931-50d8c99953dd"
      },
      "outputs": [
        {
          "name": "stdout",
          "output_type": "stream",
          "text": [
            "Itens no carrinho:\n",
            "Camiseta\n",
            "Calça\n",
            "Sapatos\n",
            "\n",
            "Itens no carrinho após remoção:\n",
            "Calça\n",
            "Sapatos\n"
          ]
        }
      ],
      "source": [
        "class ShoppingCart:\n",
        "  def __init__(self):\n",
        "    self.items = [] # Usaremos uma lista para armazenar os itens do carrinho\n",
        "\n",
        "  def add_item(self, item):\n",
        "    self.items.append(item)\n",
        "\n",
        "  def remove_item(self, item):\n",
        "    self.items.remove(item)\n",
        "\n",
        "  def show_items(self):\n",
        "    for item in self.items:\n",
        "      print(item)\n",
        "# Criando uma instância da classe\n",
        "cart = ShoppingCart()\n",
        "# Adicionando itens ao carrinho\n",
        "cart.add_item(\"Camiseta\")\n",
        "cart.add_item(\"Calça\")\n",
        "cart.add_item(\"Sapatos\")\n",
        "# Exibindo os itens no carrinho\n",
        "print(\"Itens no carrinho:\")\n",
        "cart.show_items()\n",
        "# Removendo um item\n",
        "cart.remove_item(\"Camiseta\")\n",
        "# Exibindo os itens atualizados no carrinho\n",
        "print(\"\\nItens no carrinho após remoção:\")\n",
        "cart.show_items()"
      ]
    },
    {
      "cell_type": "markdown",
      "metadata": {
        "id": "yJ8HrkRNkeb6"
      },
      "source": [
        "**Exercício de Fixação 1**\n",
        "\n",
        "Você foi contratado para criar um sistema de gerenciamento de alunos em uma escola. Sua tarefa é criar uma classe chamada Turma que funcionará como um contêiner para armazenar informações sobre os alunos de uma turma. A classe Turma deve incluir um construtor para inicializar os atributos e um destrutor para imprimir uma mensagem quando a instância for destruída. Além disso, você deve implementar métodos para adicionar e remover alunos da turma, bem como para listar os alunos matriculados.\n",
        "\n",
        "Requisitos:\n",
        "* A classe Turma deve conter um atributo alunos, que será uma lista para armazenar os nomes dos alunos.\n",
        "* O construtor __init__ deve aceitar o nome da turma como parâmetro e inicializar a lista de alunos.\n",
        "*A classe deve ter um método adicionar_aluno que permita adicionar um aluno à turma.\n",
        "*A classe deve ter um método remover_aluno que permita remover um aluno da turma.\n",
        "*A classe deve ter um método listar_alunos que exiba os nomes dos alunos matriculados.\n",
        "*O destrutor __del__ deve imprimir uma mensagem informando que a instância da turma está sendo destruída.\n"
      ]
    },
    {
      "cell_type": "code",
      "execution_count": null,
      "metadata": {
        "id": "Ynj7Vemgkzfb"
      },
      "outputs": [],
      "source": []
    },
    {
      "cell_type": "markdown",
      "metadata": {
        "id": "o3jc03_JlBR7"
      },
      "source": [
        "**Encapsulamento**\n",
        "\n",
        "* O encapsulamento envolve a ideia de esconder os detalhes de implementação internos de uma classe.\n",
        "* Isso protege os atributos e métodos internos de acesso e manipulação indesejados.\n",
        "* Encapsulamento ajuda a manter a coesão e reduz o acoplamento entre classes.\n",
        "* Os membros protegidos são indicados por um único underscore (_) como prefixo (_nome).\n",
        "* Embora sejam acessíveis fora da classe, convenciona-se que devem ser tratados como \"privados\".\n",
        "* Os membros privados são indicados por dois underscores (__) como prefixo (__nome).\n",
        "* Eles são usados para indicar que o acesso deve ser restrito à própria classe.\n"
      ]
    },
    {
      "cell_type": "code",
      "execution_count": null,
      "metadata": {
        "id": "LguZLiSLljUX"
      },
      "outputs": [],
      "source": [
        "class Pessoa:\n",
        "    def __init__(self, nome):\n",
        "        self.nome = nome  # Atributo público\n",
        "\n",
        "Funcionario = Pessoa(\"Eduardo\")\n",
        "print(Funcionario.nome)\n"
      ]
    },
    {
      "cell_type": "code",
      "execution_count": null,
      "metadata": {
        "id": "-GCpbUZclnBF"
      },
      "outputs": [],
      "source": [
        "class Pessoa:\n",
        "    def __init__(self, nome):\n",
        "        self.__nome = nome  # Atributo protegido\n",
        "\n",
        "Funcionario = Pessoa(\"Eduardo\")\n",
        "print(Funcionario.__nome)\n"
      ]
    },
    {
      "cell_type": "markdown",
      "metadata": {
        "id": "MSVahFkIlzJL"
      },
      "source": [
        "**Exercício de Fixação 2**\n",
        "\n",
        "Crie uma classe chamada ContaBancaria que encapsule informações sobre uma conta bancária. A classe deve ter os seguintes métodos públicos:\n",
        "* __init__(self, titular, saldo_inicial): Um construtor que recebe o nome do titular da conta e o saldo inicial e inicializa atributos privados _titular e _saldo.\n",
        "* depositar(self, valor): Um método que permite ao titular da conta depositar dinheiro na conta. Este método deve atualizar o saldo da conta.\n",
        "* sacar(self, valor): Um método que permite ao titular da conta sacar dinheiro da conta, desde que haja saldo suficiente. Este método deve atualizar o saldo da conta.\n",
        "* saldo(self): Um método que retorna o saldo atual da conta.\n",
        "* Certifique-se de que _saldo seja privado e que não possa ser acessado diretamente de fora da classe. Use métodos públicos para interagir com o saldo.\n"
      ]
    },
    {
      "cell_type": "code",
      "execution_count": null,
      "metadata": {
        "id": "PQ88Ceo0l_0Y"
      },
      "outputs": [],
      "source": [
        "# Criando uma instância da classe ContaBancaria\n",
        "conta = ContaBancaria(\"Alice\", 1000)\n",
        "\n",
        "# Depositando dinheiro na conta\n",
        "conta.depositar(500)\n",
        "\n",
        "# Sacando dinheiro da conta\n",
        "conta.sacar(200)\n",
        "\n",
        "# Verificando o saldo da conta\n",
        "print(f\"Saldo atual da conta de {conta.titular()}: R${conta.saldo()}\")\n"
      ]
    },
    {
      "cell_type": "markdown",
      "metadata": {
        "id": "XBt1oFHImEEK"
      },
      "source": [
        "**Métodos Get e Set na POO**\n",
        "\n",
        "* Na programação orientada a objetos (POO), os métodos Get e Set são utilizados para acessar e modificar os atributos de uma classe de maneira controlada.\n",
        "* Eles desempenham um papel importante na aplicação do princípio de encapsulamento, que visa proteger os atributos de uma classe e fornecer uma interface controlada para interagir com eles.\n"
      ]
    },
    {
      "cell_type": "code",
      "execution_count": null,
      "metadata": {
        "id": "_V6lBIJamPWD"
      },
      "outputs": [],
      "source": [
        "class Pessoa:\n",
        "    def __init__(self, nome):\n",
        "        self.__nome = nome  # Atributo privado\n",
        "\n",
        "    def get_nome(self):\n",
        "        return self.__nome  # Método get para acessar o atributo privado\n",
        "\n",
        "pessoa = Pessoa(\"Alice\")\n",
        "nome_da_pessoa = pessoa.get_nome()\n",
        "print(nome_da_pessoa)  # Saída: Alice\n"
      ]
    },
    {
      "cell_type": "code",
      "execution_count": null,
      "metadata": {
        "id": "_kItleQCmZZ0"
      },
      "outputs": [],
      "source": [
        "class ContaBancaria:\n",
        "    def __init__(self):\n",
        "        self.__saldo = 0  # Atributo privado\n",
        "\n",
        "    def set_saldo(self, novo_saldo):\n",
        "        if novo_saldo >= 0:\n",
        "            self.__saldo = novo_saldo  # Método set com validação\n",
        "\n",
        "    def get_saldo(self):\n",
        "        return self.__saldo\n",
        "\n",
        "conta = ContaBancaria()\n",
        "conta.set_saldo(1000)\n",
        "print(conta.get_saldo())  # Saída: 1000\n",
        "conta.set_saldo(-500)  # Não alterará o saldo, pois a validação falha\n",
        "print(conta.get_saldo())  # Ainda será 1000\n"
      ]
    },
    {
      "cell_type": "markdown",
      "metadata": {
        "id": "bFddJqlDmovH"
      },
      "source": [
        "**Exercício de Fixação 3**\n",
        "\n",
        "Encapsule os atributos da classe Pessoa para torná-los privados e forneça métodos get e set para acessá-los."
      ]
    },
    {
      "cell_type": "code",
      "execution_count": null,
      "metadata": {
        "id": "SqQ8jg25mtgp"
      },
      "outputs": [],
      "source": [
        "class Pessoa:\n",
        "    def __init__(self, nome, idade, sexo):\n",
        "        self.nome = nome\n",
        "        self.idade = idade\n",
        "        self.sexo = sexo"
      ]
    },
    {
      "cell_type": "markdown",
      "metadata": {
        "id": "kizXgYmvm3Su"
      },
      "source": [
        "**Métodos de Classe**\n",
        "\n",
        "* Os métodos de classe em Python não dependem do estado da instância.\n",
        "* Eles são declarados com o decorador @classmethod.\n",
        "* São usados quando queremos operar na classe em vez de em uma instância.\n",
        "* Observação: A principal diferença entre o parâmetro cls e o parâmetro self (usado em métodos de instância) é que self refere-se à instância específica da classe, enquanto cls refere-se à própria classe.\n",
        "* Isso torna cls útil para operações que envolvem a classe como um todo e para definir métodos de classe.\n"
      ]
    },
    {
      "cell_type": "code",
      "execution_count": 4,
      "metadata": {
        "id": "jEbmf3NOnIm0"
      },
      "outputs": [
        {
          "name": "stdout",
          "output_type": "stream",
          "text": [
            "25\n"
          ]
        }
      ],
      "source": [
        "class MathUtils:\n",
        "    @classmethod\n",
        "    def square(cls, num):\n",
        "        return num ** 2\n",
        "    \n",
        "    def __init__(self,nome):\n",
        "        self.nome = nome\n",
        "\n",
        "potenciador = MathUtils('Rogérin')\n",
        "print(MathUtils.square(5))\n",
        "\n"
      ]
    },
    {
      "cell_type": "markdown",
      "metadata": {
        "id": "tijE8qYynUNw"
      },
      "source": [
        "**Exercício de Fixação 4**\n",
        "\n",
        "Crie uma classe chamada Matematica com um método de classe que calcula a média de uma lista de números."
      ]
    },
    {
      "cell_type": "code",
      "execution_count": null,
      "metadata": {
        "id": "2fPs2GZTnaBV"
      },
      "outputs": [
        {
          "name": "stdout",
          "output_type": "stream",
          "text": [
            "MATEMATICA TCHAU TCHAU\n",
            "[12, 18, 27]\n",
            "\n",
            "MEDIA: 19.00\n"
          ]
        }
      ],
      "source": [
        "class Matematica:\n",
        "    vlr_tot = 0\n",
        "    vlr_unit = 0\n",
        "\n",
        "    def __init__(self):\n",
        "        self.valores = []\n",
        "\n",
        "    def adicinar_val(self,val):\n",
        "        self.valores.append(val)\n",
        "        Matematica.vlr_tot += val\n",
        "        Matematica.vlr_unit += 1\n",
        "\n",
        "    @classmethod\n",
        "    def Calcular_Media(cls):\n",
        "        return cls.vlr_tot/cls.vlr_unit\n",
        "\n",
        "    def __del__(self):\n",
        "        print(\"MATEMATICA TCHAU TCHAU\")\n",
        "\n",
        "continhas = Matematica()\n",
        "for i in range(0,3):\n",
        "    continhas.adicinar_val(int(input()))\n",
        "\n",
        "print(continhas.valores)\n",
        "\n",
        "media = Matematica.Calcular_Media()\n",
        "\n",
        "print(f\"\\nMEDIA: {media:.2f}\")"
      ]
    },
    {
      "cell_type": "markdown",
      "metadata": {
        "id": "sFCaUYOQnas6"
      },
      "source": [
        "**Métodos Estáticos**\n",
        "\n",
        "* São métodos definidos em uma classe que não dependem de atributos específicos de instância ou de classe.\n",
        "* Eles são métodos que não requerem acesso a atributos ou métodos de instância e, portanto, não recebem o parâmetro self.\n",
        "* Os métodos estáticos são associados à classe em vez de instâncias individuais, e podem ser chamados diretamente na classe sem a necessidade de criar um objeto.\n",
        "* Métodos estáticos são úteis quando você precisa de uma funcionalidade que pertence à classe como um todo, mas não precisa acessar os atributos específicos de instância ou classe.\n",
        "* Eles são definidos usando o decorador @staticmethod antes da definição do método.\n"
      ]
    },
    {
      "cell_type": "code",
      "execution_count": 8,
      "metadata": {
        "id": "UJqr1wIznlML"
      },
      "outputs": [
        {
          "name": "stdout",
          "output_type": "stream",
          "text": [
            "Soma: 8\n",
            "Subtração: 3\n"
          ]
        }
      ],
      "source": [
        "class MathUtils:\n",
        "    @staticmethod\n",
        "    def add(a, b):\n",
        "        return a + b\n",
        "\n",
        "    @staticmethod\n",
        "    def subtract(a, b):\n",
        "        return a - b\n",
        "\n",
        "# Chamando métodos estáticos diretamente na classe\n",
        "sum_result = MathUtils.add(5, 3)\n",
        "diff_result = MathUtils.subtract(10, 7)\n",
        "\n",
        "print(\"Soma:\", sum_result)      # Saída: Soma: 8\n",
        "print(\"Subtração:\", diff_result) # Saída: Subtração: 3\n"
      ]
    },
    {
      "cell_type": "markdown",
      "metadata": {
        "id": "HU_qihVUoGVn"
      },
      "source": [
        "**Exercício de Fixação 5**\n",
        "\n",
        "Crie um método estático na classe Carro que imprime uma mensagem genérica sobre carros."
      ]
    },
    {
      "cell_type": "code",
      "execution_count": 12,
      "metadata": {
        "id": "RtEy2h0woNaa"
      },
      "outputs": [
        {
          "name": "stdout",
          "output_type": "stream",
          "text": [
            "Modelo:Siena\n",
            "Marca:Fiat\n",
            "ANO:2010\n",
            "\n",
            "Siena do pai era uma reliquia pena que foi preso :(\n"
          ]
        }
      ],
      "source": [
        "class Carro:\n",
        "    def __init__(self,marca,modelo,ano):\n",
        "        self.marca = marca\n",
        "        self.modelo = modelo\n",
        "        self.ano = ano \n",
        "\n",
        "    def informacoes(self):\n",
        "        print(f\"Modelo:{self.modelo}\\nMarca:{self.marca}\\nANO:{self.ano}\\n\")\n",
        "\n",
        "    @staticmethod\n",
        "    def generic():\n",
        "        print('Siena do pai era uma reliquia pena que foi preso :(')\n",
        "\n",
        "carro1 = Carro(\"Fiat\",\"Siena\",\"2010\")\n",
        "carro1.informacoes()\n",
        "\n",
        "Carro.generic()"
      ]
    },
    {
      "cell_type": "markdown",
      "metadata": {
        "id": "5-yRAr5dntBk"
      },
      "source": [
        "**Slots**\n",
        "\n",
        "* Os slots (também conhecidos como \"caixas\") são uma característica que permite otimizar a utilização de memória e acelerar o acesso a atributos em objetos.\n",
        "* A ideia principal dos slots é restringir dinamicamente os atributos que podem ser definidos em uma instância de classe, o que pode ser útil em situações onde você precisa controlar os atributos que podem ser adicionados a objetos.\n",
        "* Normalmente, em Python, você pode adicionar atributos a objetos em tempo de execução, mesmo que eles não tenham sido definidos na classe.\n",
        "* Isso é possível graças à flexibilidade dinâmica da linguagem.\n",
        "* No entanto, essa flexibilidade pode ter um impacto negativo na utilização de memória, principalmente quando você tem muitas instâncias da mesma classe.\n",
        "* Os slots permitem definir explicitamente quais atributos uma classe pode ter e, consequentemente, otimizar o consumo de memória. Isso é feito através da definição de uma lista de nomes de atributos permitidos na forma de uma variável de classe chamada __slots__.\n"
      ]
    },
    {
      "cell_type": "code",
      "execution_count": 17,
      "metadata": {
        "id": "by-rrYiln57H"
      },
      "outputs": [
        {
          "name": "stdout",
          "output_type": "stream",
          "text": [
            "Alice\n",
            "30\n",
            "alice@example.com\n"
          ]
        }
      ],
      "source": [
        "class Pessoa:\n",
        "    __slots__ = [\"nome\", \"idade\", \"email\"]\n",
        "\n",
        "    def __init__(self, nome, idade,email=\"nada\"):\n",
        "        self.nome = nome\n",
        "        self.idade = idade\n",
        "        self.email = email\n",
        "\n",
        "pessoa = Pessoa(\"Alice\", 30)\n",
        "print(pessoa.nome)   # Saída: Alice\n",
        "print(pessoa.idade)  # Saída: 30\n",
        "\n",
        "pessoa.email = \"alice@example.com\"  # Isso resultará em um erro, pois \"email\" não está nos slots\n",
        "\n",
        "print(pessoa.email)"
      ]
    },
    {
      "cell_type": "markdown",
      "metadata": {
        "id": "kI6-XQv4oURz"
      },
      "source": [
        "**Exercício de Fixação 6**\n",
        "\n",
        "Crie uma classe Estudante com atributos como nome, idade e matrícula. Use slots para otimizar a memória."
      ]
    },
    {
      "cell_type": "code",
      "execution_count": 19,
      "metadata": {
        "id": "wtex83ReodwK"
      },
      "outputs": [
        {
          "name": "stdout",
          "output_type": "stream",
          "text": [
            "Nome:Rogerin\n",
            "Idade:21\n",
            "Matricula:234023\n"
          ]
        }
      ],
      "source": [
        "class Estudante:\n",
        "    __slots__ = [\"nome\", \"idade\", \"matricula\"]\n",
        "\n",
        "    def __init__(self,nome,idade,matricula):\n",
        "        self.nome = nome\n",
        "        self.idade = idade\n",
        "        self.matricula = matricula\n",
        "\n",
        "    def get_all(self):\n",
        "        print(f\"Nome:{self.nome}\\nIdade:{self.idade}\\nMatricula:{self.matricula}\")\n",
        "\n",
        "estudante1 = Estudante(\"Rogerin\", 21,234023)\n",
        "\n",
        "estudante1.get_all()"
      ]
    },
    {
      "cell_type": "markdown",
      "metadata": {
        "id": "Frfr9FRaQZ0d"
      },
      "source": [
        "**Exercícios de Aplicação**\n",
        "\n",
        "Prezado(a) aluno(a),\n",
        "\n",
        "Os exercícios a seguir são de aplicação, o que significa que servem para você praticar o que aprendeu e, quem sabe, perceber que talvez tenha aprendido menos do que achava. Eles são uma excelente (e generosa) oportunidade de aprendizagem, mas também podem virar uma surpresa avaliativa a qualquer momento.\n",
        "Sim, isso mesmo: podem ou não valer pontos extras, pontos na prova ou apenas pontos na sua consciência. O mistério faz parte da graça.\n",
        "Em algum momento aleatório, escolhido por métodos científicos como sorteio mental ou inspiração do café da manhã do professor, pode-se decidir que os exercícios devem ser apresentados. Pode ser na semana que vem, na outra, no último dia de aula, ou — para os otimistas — jamais. Nesse dia (caso ele chegue), só receberá os pontos quem apresentar a lista inteira, inclusive com os exercícios de fixação, resolvida, impressa e linda, como se estivesse indo para um desfile de moda acadêmica.\n",
        "Não haverá desculpas válidas: nem impressora quebrada, nem cachorro com apetite por papel, nem “achei que não ia valer nada”. Só o dever cumprido será recompensado.\n",
        "Portanto, faça os exercícios. Imprima. Guarde com carinho. Trate-os como um bilhete premiado que pode ou não ser sorteado. Viva a emoção da incerteza.\n",
        "Boa sorte (você vai precisar).\n",
        "\n",
        "Observação formal: Esta atividade tem como principal objetivo promover a fixação do conteúdo, incentivar o estudo contínuo e possibilitar a avaliação formativa. A eventual atribuição de valor avaliativo será comunicada no momento oportuno, conforme o planejamento da disciplina e a autonomia didático-pedagógica docente."
      ]
    },
    {
      "cell_type": "markdown",
      "metadata": {
        "id": "VPE9auh6S45I"
      },
      "source": [
        "**Exercício de Aplicação 1**\n",
        "\n",
        "Crie uma classe Cofrinho que representa um cofre digital.\n",
        "\n",
        "Use atributos privados para armazenar o saldo.\n",
        "\n",
        "Implemente métodos para depositar, sacar e consultar o saldo.\n",
        "\n",
        "Crie um método estático chamado converter_para_dolar(valor_em_reais) que converte um valor em reais para dólares com uma taxa fixa.\n",
        "\n"
      ]
    },
    {
      "cell_type": "code",
      "execution_count": 21,
      "metadata": {
        "id": "mKn2mwR-S_Y-"
      },
      "outputs": [
        {
          "name": "stdout",
          "output_type": "stream",
          "text": [
            "SALDO: R$1800\n",
            "VALOR NORMAL: R$1800\n",
            "VALOR EM DOLLAR: $321.43\n"
          ]
        }
      ],
      "source": [
        "class Cofrinho:\n",
        "    def __init__(self,saldo_inic):\n",
        "        self.saldo = saldo_inic\n",
        "\n",
        "    def depositar(self,dep):\n",
        "        self.saldo += dep\n",
        "\n",
        "    def sacar(self,sac):\n",
        "        if self.saldo < sac:\n",
        "            print(\"\\nSALDO INSUFICIENTE!\\n\")\n",
        "        else:\n",
        "            self.saldo -= sac\n",
        "\n",
        "    def consultar(self):\n",
        "        print(f\"SALDO: R${self.saldo}\")\n",
        "\n",
        "    @staticmethod\n",
        "    def converter_para_dolar(obj):\n",
        "        print(f\"VALOR NORMAL: R${obj.saldo}\\nVALOR EM DOLLAR: ${obj.saldo/(5.60):.2f}\")\n",
        "\n",
        "Rogerin = Cofrinho(1400)\n",
        "\n",
        "Rogerin.depositar(600)\n",
        "\n",
        "Rogerin.sacar(200)\n",
        "\n",
        "Rogerin.consultar()\n",
        "\n",
        "Cofrinho.converter_para_dolar(Rogerin)"
      ]
    },
    {
      "cell_type": "markdown",
      "metadata": {
        "id": "l4te61d0TAEA"
      },
      "source": [
        "**Exercício de Aplicação 2**\n",
        "\n",
        "Implemente uma classe Produto com nome, preço e quantidade.\n",
        "Depois, crie uma classe Estoque que funcione como um contêiner de produtos (lista interna).\n",
        "\n",
        "Use getters e setters para controlar o acesso ao preço do produto.\n",
        "\n",
        "Permita adicionar, remover e listar produtos no estoque."
      ]
    },
    {
      "cell_type": "code",
      "execution_count": 29,
      "metadata": {
        "id": "wwdMrzWzTHTI"
      },
      "outputs": [
        {
          "name": "stdout",
          "output_type": "stream",
          "text": [
            "- Sabão | Preço: R$50.00 | Quantidade: 2\n",
            "- Detergente | Preço: R$2.50 | Quantidade: 3\n",
            "- Bolacha | Preço: R$5.00 | Quantidade: 50\n"
          ]
        }
      ],
      "source": [
        "class Produto:\n",
        "    def __init__(self,nome,preco,qtd):\n",
        "        self.nome = nome\n",
        "        self.preco = preco\n",
        "        self.qtd = qtd\n",
        "\n",
        "    def get_preco(self):\n",
        "        return self.preco\n",
        "\n",
        "    def set_preco(self,newprec):\n",
        "        self.preco = newprec\n",
        "\n",
        "    def __str__(self):\n",
        "        return f'{self.nome} | Preço: R${self.get_preco():.2f} | Quantidade: {self.qtd}'\n",
        "\n",
        "\n",
        "class Estoque:\n",
        "    def __init__(self):\n",
        "        self.estoque = []\n",
        "\n",
        "    def adicionar_estoque(self,prod):\n",
        "        self.estoque.append(prod)\n",
        "\n",
        "    def remover_estoque(self,prod):\n",
        "        if prod not in self.estoque:\n",
        "            print('Produto não encontrado!')\n",
        "        else:\n",
        "            self.estoque.remove(prod)\n",
        "\n",
        "    def get_estoque(self):\n",
        "        for i in self.estoque:  \n",
        "            print(f'- {i}')\n",
        "\n",
        "\n",
        "produto1 = Produto(\"Sabão\", 50,2)\n",
        "produto2 = Produto(\"Detergente\",2.50,3)\n",
        "produto3 = Produto(\"Bolacha\", 5,50)\n",
        "\n",
        "estoquegeral = Estoque()\n",
        "\n",
        "estoquegeral.adicionar_estoque(produto1)\n",
        "estoquegeral.adicionar_estoque(produto2)\n",
        "estoquegeral.adicionar_estoque(produto3)\n",
        "\n",
        "estoquegeral.get_estoque()"
      ]
    },
    {
      "cell_type": "markdown",
      "metadata": {
        "id": "A1EDql3HTHqZ"
      },
      "source": [
        "**Exercício de Aplicação 3**\n",
        "\n",
        "Implemente uma classe Livro com título, autor e número de páginas.\n",
        "\n",
        "A classe deve manter um registro de quantos livros foram criados usando um atributo de classe.\n",
        "\n",
        "Implemente um método de classe que retorna esse total.\n",
        "\n",
        "Crie uma classe Biblioteca que armazene os livros (contêiner)."
      ]
    },
    {
      "cell_type": "code",
      "execution_count": 41,
      "metadata": {
        "id": "A0m8xop2TOSH"
      },
      "outputs": [
        {
          "name": "stdout",
          "output_type": "stream",
          "text": [
            "\n",
            "--- LIVRO REMOVIDO: Uma noite no Museu ---\n",
            "\n",
            "------------LISTA DE LIVROS -------------\n",
            "Titulo:Star Wars:Estrelas Perdidas\n",
            "Autor:Claudia Gray\n",
            "Número de Páginas:270 \n",
            "\n",
            "Titulo:Diario de um BSI\n",
            "Autor:Cefetius\n",
            "Número de Páginas:1200 \n",
            "\n",
            "Titulo:Como não enlouquecer com Java\n",
            "Autor:Max Verstapen\n",
            "Número de Páginas:3241 \n",
            "\n",
            "-----------------------------------------\n",
            "\n",
            " ~~~~~~Biblioteca tem 3 livros!~~~~~~\n",
            "\n",
            "BIBLIOTECA EXCLUÍDA\n"
          ]
        }
      ],
      "source": [
        "class Biblioteca:\n",
        "    count_livros = 0 \n",
        "\n",
        "    def __init__(self):\n",
        "        self.armazlivros = []\n",
        "\n",
        "    def add_livros(self,livro):\n",
        "        self.armazlivros.append(livro)\n",
        "\n",
        "    def del_livro(self,titulolivro):\n",
        "        for livro in self.armazlivros:\n",
        "            if titulolivro.lower() == livro.titulo.lower():\n",
        "                self.armazlivros.remove(livro) \n",
        "                Biblioteca.count_livros -= 1\n",
        "                print(f'\\n--- LIVRO REMOVIDO: {livro.titulo} ---\\n')\n",
        "    \n",
        "    def get_livros(self):\n",
        "        print('------------LISTA DE LIVROS -------------')\n",
        "        for liv in self.armazlivros:\n",
        "            print(liv)\n",
        "        print('-----------------------------------------')\n",
        "\n",
        "    def __del__(self):\n",
        "        print(\"BIBLIOTECA EXCLUÍDA\")\n",
        "\n",
        "    def __str__(self):\n",
        "        return f\"Esta é uma biblioteca com {len(self.armazlivros)} livros no acervo.\"\n",
        "\n",
        "    @classmethod\n",
        "    def retorna_qtdlivros(cls):\n",
        "        print(f\"\\n ~~~~~~Biblioteca tem {cls.count_livros} livros!~~~~~~\\n\")\n",
        "\n",
        "class Livro:\n",
        "    def __init__(self,titulo,autor,nmpag):\n",
        "        self.titulo = titulo\n",
        "        self.autor = autor\n",
        "        self.nmpag = nmpag\n",
        "        Biblioteca.count_livros += 1 \n",
        "\n",
        "    def __str__(self):\n",
        "        return f'Titulo:{self.titulo}\\nAutor:{self.autor}\\nNúmero de Páginas:{self.nmpag} \\n'\n",
        "\n",
        "bibliozinha = Biblioteca()\n",
        "\n",
        "lib1 = Livro(\"Star Wars:Estrelas Perdidas\", \"Claudia Gray\", 270)\n",
        "lib2 = Livro(\"Uma noite no Museu\", \"Rogérin do Funk\", 20)\n",
        "lib3 = Livro(\"Diario de um BSI\", \"Cefetius\", 1200)\n",
        "lib4 = Livro(\"Como não enlouquecer com Java\", \"Max Verstapen\", 3241)\n",
        "\n",
        "bibliozinha.add_livros(lib1)\n",
        "bibliozinha.add_livros(lib2)\n",
        "bibliozinha.add_livros(lib3)\n",
        "bibliozinha.add_livros(lib4)\n",
        "\n",
        "bibliozinha.del_livro(\"Uma noite no Museu\")\n",
        "\n",
        "bibliozinha.get_livros()\n",
        "\n",
        "bibliozinha.retorna_qtdlivros()\n",
        "\n",
        "del bibliozinha"
      ]
    },
    {
      "cell_type": "markdown",
      "metadata": {
        "id": "aGt2pMzMTOrB"
      },
      "source": [
        "**Exercício de Aplicação 4**\n",
        "\n",
        "Crie uma classe Usuario com os atributos: nome, email e senha.\n",
        "\n",
        "Use __slots__ para restringir os atributos da classe.\n",
        "\n",
        "Os atributos devem ser privados e acessados apenas via métodos get_ e set_.\n",
        "\n",
        "Tente acessar diretamente os atributos para ver o que acontece.\n",
        "\n"
      ]
    },
    {
      "cell_type": "code",
      "execution_count": 2,
      "metadata": {
        "id": "USRxwxXNTVaj"
      },
      "outputs": [
        {
          "name": "stdout",
          "output_type": "stream",
          "text": [
            "--- Usando o Get/Set ---\n",
            "Nome atual: Rogerin\n",
            "Nome alterado: Rogerin Otávio\n",
            "Email atual: roger@email.com\n",
            "Email alterado: rogerin.otavio@email.com\n",
            "\n",
            "--- Tentando Acessar Atributos Diretamente ---\n",
            "Falha ao tentar acessar 'eu.nome': 'Usuario' object has no attribute 'nome'\n",
            "Falha ao tentar acessar 'eu.__nome': 'Usuario' object has no attribute '__nome'\n"
          ]
        }
      ],
      "source": [
        "class Usuario:\n",
        "    __slots__ = [\"__nome\", \"__email\", \"__senha\"]\n",
        "\n",
        "    def __init__(self,nome,email,senha):\n",
        "        self.__nome = nome\n",
        "        self.__email = email\n",
        "        self.__senha = senha\n",
        "\n",
        "    def get_nome(self):\n",
        "        return f'{self.__nome}'\n",
        "    \n",
        "    def set_nome(self,newname):\n",
        "        self.__nome = newname\n",
        "\n",
        "    def get_email(self):\n",
        "        return f'{self.__email}'\n",
        "    \n",
        "    def set_email(self,emailz):\n",
        "        self.__email = emailz\n",
        "\n",
        "    def get_senha(self):\n",
        "        return f'{self.__senha}'\n",
        "    \n",
        "    def set_senha(self,senhaz):\n",
        "        self.__senha = senhaz\n",
        "\n",
        "eu = Usuario(\"Rogerin\",\"roger@email.com\",1234)\n",
        "\n",
        "\n",
        "print(\"--- Usando o Get/Set ---\")\n",
        "print(f\"Nome atual: {eu.get_nome()}\")\n",
        "eu.set_nome(\"Rogerin Otávio\")\n",
        "print(f\"Nome alterado: {eu.get_nome()}\")\n",
        "\n",
        "print(f\"Email atual: {eu.get_email()}\")\n",
        "eu.set_email(\"rogerin.otavio@email.com\")\n",
        "print(f\"Email alterado: {eu.get_email()}\\n\")\n",
        "\n",
        "print(\"--- Tentando Acessar Atributos Diretamente ---\")\n",
        "try:\n",
        "    print(eu.nome)\n",
        "except AttributeError as e:\n",
        "    print(f\"Falha ao tentar acessar 'eu.nome': {e}\")\n",
        "\n",
        "try:\n",
        "    print(eu.__nome)\n",
        "except AttributeError as e:\n",
        "    print(f\"Falha ao tentar acessar 'eu.__nome': {e}\")\n"
      ]
    },
    {
      "cell_type": "markdown",
      "metadata": {
        "id": "_EIFoT-FTV88"
      },
      "source": [
        "**Exercício de Aplicação 5**\n",
        "Crie uma classe Relatorio com titulo e dados como atributos.\n",
        "\n",
        "Use __slots__ para limitar os atributos.\n",
        "\n",
        "Adicione um método estático chamado exportar_para_txt(relatorio) que recebe um objeto Relatorio e salva seu conteúdo em um arquivo .txt."
      ]
    },
    {
      "cell_type": "code",
      "execution_count": 5,
      "metadata": {
        "id": "FvJDh0sMTcm7"
      },
      "outputs": [
        {
          "name": "stdout",
          "output_type": "stream",
          "text": [
            "Relatório 'Anotações Legais.txt' exportado com sucesso! ✅\n"
          ]
        }
      ],
      "source": [
        "class Relatorio:\n",
        "    __slots__ = [\"titulo\",\"dados\"]\n",
        "\n",
        "    def __init__(self,titulo,dados):\n",
        "        self.titulo = titulo\n",
        "        self.dados = dados\n",
        "\n",
        "    @staticmethod\n",
        "    def exportar_para_text(relatorio):\n",
        "        #Recebe um objeto Relatorio e salva seu conteúdo em um arquivo .txt.\n",
        "        #O nome do arquivo será o título do relatório.\n",
        "        #\"\"\"\n",
        "        # Define o nome do arquivo usando o título e adicionando a extensão .txt\n",
        "        nome_arquivo = f\"{relatorio.titulo}.txt\"\n",
        "\n",
        "        # Abre o arquivo no modo de escrita ('w')\n",
        "        # O 'with' garante que o arquivo seja fechado automaticamente\n",
        "        with open(nome_arquivo, 'w', encoding='utf-8') as arquivo:\n",
        "            # Escreve o título no arquivo, seguido por uma quebra de linha\n",
        "            arquivo.write(f\"Título: {relatorio.titulo}\\n\")\n",
        "            # Adiciona uma linha de separação\n",
        "            arquivo.write(\"=\"*30 + \"\\n\")\n",
        "            # Escreve os dados do relatório\n",
        "            arquivo.write(f\"Dados: {relatorio.dados}\\n\")\n",
        "        \n",
        "        print(f\"Relatório '{nome_arquivo}' exportado com sucesso! ✅\")\n",
        "\n",
        "\n",
        "rela1 = Relatorio(\"Anotações Legais\",\"Em uma terra muito distante que penso em cada café que existe\")\n",
        "\n",
        "Relatorio.exportar_para_text(rela1)"
      ]
    },
    {
      "cell_type": "markdown",
      "metadata": {
        "id": "0bsnrTG3Tc7g"
      },
      "source": [
        "**Exercício de Aplicação 6**\n",
        "Crie uma classe Funcionario com nome, cargo e salário (privado).\n",
        "\n",
        "Use métodos para acessar e atualizar o salário.\n",
        "\n",
        "Adicione um método de classe que retorna a quantidade de funcionários criados."
      ]
    },
    {
      "cell_type": "code",
      "execution_count": 24,
      "metadata": {
        "id": "NaNSYNeUTkxH"
      },
      "outputs": [
        {
          "name": "stdout",
          "output_type": "stream",
          "text": [
            "Salário Rogério: R$3500.00\n",
            "\n",
            "Salário Rogério: R$4000.00\n",
            "\n",
            "Total de Funcionário: 4\n"
          ]
        }
      ],
      "source": [
        "class Funcionario:\n",
        "    __slots__ = [\"nome\",\"cargo\",\"__salario\"]\n",
        "    count_func = 0\n",
        "\n",
        "    def __init__(self,nome,cargo,salario):\n",
        "        self.nome = nome \n",
        "        self.cargo = cargo\n",
        "        self.__salario = salario\n",
        "\n",
        "        Funcionario.count_func += 1\n",
        "\n",
        "    def get_salario(self):\n",
        "        print(f\"Salário {self.nome}: R${self.__salario:.2f}\\n\")\n",
        "    \n",
        "    def set_salario(self,new):\n",
        "        self.__salario = new\n",
        "\n",
        "    @classmethod\n",
        "    def get_funcionarios(cls):\n",
        "        print(f'Total de Funcionário: {cls.count_func}')\n",
        "\n",
        "\n",
        "func1 = Funcionario('Rogério','Progamador Junior',3500)\n",
        "func2 = Funcionario('Miguel','Progamador Senior',6000)\n",
        "func3 = Funcionario('Julio','Progamador Senior',7500)\n",
        "func4 = Funcionario('André','Designer Gay',15000)\n",
        "\n",
        "func1.get_salario()\n",
        "\n",
        "func1.set_salario(4000)\n",
        "\n",
        "func1.get_salario()\n",
        "\n",
        "Funcionario.get_funcionarios()\n",
        "\n"
      ]
    },
    {
      "cell_type": "markdown",
      "metadata": {
        "id": "RwLI_ozBTlJV"
      },
      "source": [
        "**Exercício de Aplicação 7**\n",
        "Crie classes Produto e Carrinho.\n",
        "\n",
        "Carrinho deve armazenar produtos com suas quantidades e fornecer métodos para adicionar, remover e calcular o total.\n",
        "\n",
        "Use __slots__ na classe Produto para limitar atributos a nome e preço."
      ]
    },
    {
      "cell_type": "code",
      "execution_count": 41,
      "metadata": {
        "id": "jOu4rgWKTqL7"
      },
      "outputs": [
        {
          "name": "stdout",
          "output_type": "stream",
          "text": [
            "\n",
            "--- CARRINHO ---\n",
            "\n",
            "- Arroz | Qtd: 1 | Total item: R$22.00\n",
            "- Picanha | Qtd: 2 | Total item: R$130.00\n",
            "- Feijão | Qtd: 4 | Total item: R$48.00\n",
            "- PS5 Pro | Qtd: 1 | Total item: R$5000.00\n",
            "------------------\n",
            "\n",
            "Produto 'Picanha' removido.\n",
            "\n",
            "--- CARRINHO ---\n",
            "\n",
            "- Arroz | Qtd: 1 | Total item: R$22.00\n",
            "- Feijão | Qtd: 4 | Total item: R$48.00\n",
            "- PS5 Pro | Qtd: 1 | Total item: R$5000.00\n",
            "------------------\n",
            "TOTAL CARRINHO: R$5070.00\n"
          ]
        }
      ],
      "source": [
        "class Produto:\n",
        "    __slots__ = [\"nome\",\"preco\"]\n",
        "\n",
        "    def __init__(self,nome,preco):\n",
        "        self.nome = nome\n",
        "        self.preco = preco\n",
        "\n",
        "    def __str__(self):\n",
        "        return f'- {self.nome}\\n- R${self.preco:.2f}\\n'\n",
        "\n",
        "class Carrinho:\n",
        "    def __init__(self):\n",
        "        self.compras = {}\n",
        "\n",
        "    def add_prod(self,prod,qtd=1):\n",
        "        self.compras[prod] = self.compras.get(prod, 0) + qtd\n",
        "    \n",
        "    def remove_prod(self,prod_nome):\n",
        "        produto_a_remover = None\n",
        "        for produto in self.compras:\n",
        "            if produto.nome.lower() == prod_nome.lower():\n",
        "                produto_a_remover = produto\n",
        "                break \n",
        "        \n",
        "        if produto_a_remover:\n",
        "            del self.compras[produto_a_remover] \n",
        "            print(f\"\\nProduto '{produto_a_remover.nome}' removido.\")\n",
        "        else:\n",
        "            print(\"\\nProduto não encontrado no carrinho!\")\n",
        "\n",
        "    def show_car(self):\n",
        "        print(\"\\n--- CARRINHO ---\\n\")\n",
        "        for produto, quantidade in self.compras.items():\n",
        "            total_item = produto.preco * quantidade\n",
        "            print(f'- {produto.nome} | Qtd: {quantidade} | Total item: R${total_item:.2f}')\n",
        "        print(\"-\" * 18)\n",
        "\n",
        "    def total_car(self):\n",
        "        total = sum(produto.preco * quantidade for produto, quantidade in self.compras.items())\n",
        "        print(f'TOTAL CARRINHO: R${total:.2f}')\n",
        "\n",
        "\n",
        "prod1 = Produto('Arroz', 22)\n",
        "prod2 = Produto('Picanha', 65)\n",
        "prod3 = Produto('Feijão', 12)\n",
        "prod4 = Produto('PS5 Pro', 5000)\n",
        "\n",
        "carroger = Carrinho()\n",
        "\n",
        "carroger.add_prod(prod1)\n",
        "carroger.add_prod(prod2, 2)\n",
        "carroger.add_prod(prod3, 4)\n",
        "carroger.add_prod(prod4)\n",
        "\n",
        "carroger.show_car()\n",
        "\n",
        "carroger.remove_prod('Picanha')\n",
        "\n",
        "carroger.show_car()\n",
        "\n",
        "carroger.total_car()"
      ]
    }
  ],
  "metadata": {
    "colab": {
      "provenance": []
    },
    "kernelspec": {
      "display_name": ".venv",
      "language": "python",
      "name": "python3"
    },
    "language_info": {
      "codemirror_mode": {
        "name": "ipython",
        "version": 3
      },
      "file_extension": ".py",
      "mimetype": "text/x-python",
      "name": "python",
      "nbconvert_exporter": "python",
      "pygments_lexer": "ipython3",
      "version": "3.11.2"
    }
  },
  "nbformat": 4,
  "nbformat_minor": 0
}
