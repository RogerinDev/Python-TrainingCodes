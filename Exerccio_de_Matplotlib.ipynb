{
  "cells": [
    {
      "cell_type": "markdown",
      "metadata": {
        "id": "u_S0nO6ESib9"
      },
      "source": [
        "1 - Crie um gráfico de linha que mostre a relação entre os números de 1 a 5 no eixo x e seus respectivos quadrados no eixo y. Adicione um título ao gráfico e rótulos aos eixos x e y."
      ]
    },
    {
      "cell_type": "code",
      "execution_count": 6,
      "metadata": {
        "id": "enxeEcm3Sfjp"
      },
      "outputs": [
        {
          "data": {
            "image/png": "[encoded data removed]",
            "text/plain": [
              "<Figure size 640x480 with 1 Axes>"
            ]
          },
          "metadata": {},
          "output_type": "display_data"
        }
      ],
      "source": [
        "import matplotlib.pyplot as plt \n",
        "\n",
        "x = [1,2,3,4,5,6]\n",
        "y = [i**2 for i in x]\n",
        "\n",
        "\n",
        "plt.plot(x,y,marker='o')\n",
        "\n",
        "plt.grid(True)\n",
        "plt.show()"
      ]
    },
    {
      "cell_type": "markdown",
      "metadata": {
        "id": "dz-WNPMtS4Tq"
      },
      "source": [
        "2 - Desenvolva um gráfico de barras para representar as vendas de 4 produtos em uma loja. Os produtos são: 'Produto A', 'Produto B', 'Produto C' e 'Produto D', com vendas de 20, 35, 30 e 35 unidades, respectivamente. Adicione um título ao gráfico."
      ]
    },
    {
      "cell_type": "code",
      "execution_count": null,
      "metadata": {
        "id": "1wJRXD3mS7dH"
      },
      "outputs": [],
      "source": [
        "\n"
      ]
    },
    {
      "cell_type": "markdown",
      "metadata": {
        "id": "fMa6aUhoS_it"
      },
      "source": [
        "3 - Crie um gráfico de pizza para mostrar a distribuição de mercado de quatro empresas: Empresa A (40%), Empresa B (25%), Empresa C (20%) e Empresa D (15%). Adicione rótulos com os nomes das empresas."
      ]
    },
    {
      "cell_type": "code",
      "execution_count": null,
      "metadata": {
        "id": "DQFCGiFoTB2g"
      },
      "outputs": [],
      "source": [
        "\n"
      ]
    },
    {
      "cell_type": "markdown",
      "metadata": {
        "id": "bFLhJPjUTFfB"
      },
      "source": [
        "4 - Desenvolva um gráfico de dispersão que mostre a relação entre duas listas de números: x = [1, 2, 3, 4, 5] e y = [2, 3, 5, 7, 11]. Adicione rótulos aos eixos."
      ]
    },
    {
      "cell_type": "code",
      "execution_count": null,
      "metadata": {
        "id": "tv04OGb6TJby"
      },
      "outputs": [],
      "source": [
        "\n"
      ]
    },
    {
      "cell_type": "markdown",
      "metadata": {
        "id": "1kpV9i-ATWre"
      },
      "source": [
        "5 - Crie dois gráficos de linha em um único plot utilizando subplots. O primeiro gráfico deve mostrar a função y = x para x de 0 a 4, e o segundo gráfico deve mostrar a função y = x^2 para os mesmos valores de x. Organize os subplots em duas linhas."
      ]
    },
    {
      "cell_type": "code",
      "execution_count": null,
      "metadata": {
        "id": "sm6OU8rBTZ_C"
      },
      "outputs": [],
      "source": [
        "\n"
      ]
    }
  ],
  "metadata": {
    "colab": {
      "provenance": []
    },
    "kernelspec": {
      "display_name": "Python 3",
      "name": "python3"
    },
    "language_info": {
      "codemirror_mode": {
        "name": "ipython",
        "version": 3
      },
      "file_extension": ".py",
      "mimetype": "text/x-python",
      "name": "python",
      "nbconvert_exporter": "python",
      "pygments_lexer": "ipython3",
      "version": "3.10.12"
    }
  },
  "nbformat": 4,
  "nbformat_minor": 0
}
