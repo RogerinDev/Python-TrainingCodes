{
  "cells": [
    {
      "cell_type": "markdown",
      "metadata": {},
      "source": [
        "**Exercício 1: Estatísticas Descritivas**\n",
        "\n",
        "Crie um array de 50 números inteiros aleatórios entre 1 e 100. Calcule e exiba a média, mediana, desvio padrão, valor máximo e valor mínimo."
      ]
    },
    {
      "cell_type": "code",
      "execution_count": 11,
      "metadata": {
        "id": "_dAbsR00caGE"
      },
      "outputs": [
        {
          "name": "stdout",
          "output_type": "stream",
          "text": [
            "[41 16 73 23 44 83 76  8 35 50 96 76 86 48 64 32 91 21 38 40 68  5 43 52\n",
            " 39 34 59 68 70 89 69 47 71 96 84 32 67 81 53 77 51  5 91 64 80 50 40 47\n",
            "  9 51]\n",
            "\n",
            "Média: 54.66\n",
            "Mediana: 51.5\n",
            "Desvio Padrão: 24.77\n",
            "Máximo: 96\n",
            "Mínimo: 5\n"
          ]
        }
      ],
      "source": [
        "import numpy as np \n",
        "\n",
        "np.random.seed(2)\n",
        "base = np.random.randint(1,101,50)\n",
        "\n",
        "print(f'{base}\\n')\n",
        "print(f\"Média: {np.mean(base)}\")\n",
        "print(f\"Mediana: {np.median(base)}\")\n",
        "print(f\"Desvio Padrão: {np.std(base):.2f}\")\n",
        "print(f\"Máximo: {np.max(base)}\")\n",
        "print(f\"Mínimo: {np.min(base)}\")"
      ]
    },
    {
      "cell_type": "markdown",
      "metadata": {
        "id": "JeJPW98VcbG9"
      },
      "source": [
        "**Exercício 2: Operações com Matrizes**\n",
        "\n",
        "Crie duas matrizes 3x3 de números inteiros aleatórios entre 1 e 10. Realize as operações de adição, subtração, multiplicação e divisão elemento por elemento entre as duas matrizes."
      ]
    },
    {
      "cell_type": "code",
      "execution_count": 26,
      "metadata": {
        "id": "02tMKXtTcqRM"
      },
      "outputs": [
        {
          "name": "stdout",
          "output_type": "stream",
          "text": [
            "Matriz1:\n",
            "[[9 9 7]\n",
            " [3 9 8]\n",
            " [3 2 6]]\n",
            "Matriz2:\n",
            "[[5 5 6]\n",
            " [8 4 7]\n",
            " [5 4 8]]\n",
            "\n",
            "Adição:\n",
            "[[14 14 13]\n",
            " [11 13 15]\n",
            " [ 8  6 14]]\n",
            "Subtração:\n",
            "[[ 4  4  1]\n",
            " [-5  5  1]\n",
            " [-2 -2 -2]]\n",
            "Multiplicação Escalar:\n",
            "[[45 45 42]\n",
            " [24 36 56]\n",
            " [15  8 48]]\n",
            "Divisão:\n",
            "[[1.8  1.8  1.17]\n",
            " [0.38 2.25 1.14]\n",
            " [0.6  0.5  0.75]]\n",
            "Multiplicação Algébrica:\n",
            "[[152 109 173]\n",
            " [127  83 145]\n",
            " [ 61  47  80]] \n"
          ]
        }
      ],
      "source": [
        "import numpy as np \n",
        "\n",
        "np.random.seed(2)\n",
        "\n",
        "matriz1 = np.random.randint(1,11,(3,3))\n",
        "\n",
        "matriz2 = np.random.randint(1,11,(3,3))\n",
        "adic = matriz1 + matriz2\n",
        "sub = matriz1 - matriz2\n",
        "mult = matriz1 * matriz2\n",
        "div = matriz1 / matriz2\n",
        "dot = matriz1 @ matriz2\n",
        "\n",
        "print(f'Matriz1:\\n{matriz1}')\n",
        "print(f'Matriz2:\\n{matriz2}')\n",
        "\n",
        "print(f\"\\nAdição:\\n{adic}\\nSubtração:\\n{sub}\\nMultiplicação Escalar:\\n{mult}\\nDivisão:\\n{np.round(div, 2)}\\nMultiplicação Algébrica:\\n{dot} \")"
      ]
    },
    {
      "cell_type": "markdown",
      "metadata": {
        "id": "uDBACVC8cvek"
      },
      "source": [
        "**Exercício 3: Operações de Agregação**\n",
        "\n",
        "Crie uma matriz 4x4 de números inteiros aleatórios entre 1 e 20. Calcule e exiba a soma dos elementos para cada linha e para cada coluna."
      ]
    },
    {
      "cell_type": "code",
      "execution_count": null,
      "metadata": {
        "id": "t7vqqYlfc3uC"
      },
      "outputs": [
        {
          "name": "stdout",
          "output_type": "stream",
          "text": [
            "Matriz:\n",
            "[[ 9 16 14  9]\n",
            " [12 19 12  9]\n",
            " [ 8  3 18 12]\n",
            " [16  6  8  4]]\n",
            "\n",
            "Somatoria Linhas: [48 52 41 34]\n",
            "\n",
            "Somatoria Colunas:[45 44 52 34]\n"
          ]
        }
      ],
      "source": [
        "import numpy as np\n",
        "\n",
        "np.random.seed(2)\n",
        "\n",
        "Matrizinha = np.random.randint(1,21,(4,4))\n",
        "\n",
        "print(f'Matriz:\\n{Matrizinha}\\n')\n",
        "\n",
        "testesomatoria = np.sum(Matrizinha, axis=1) # 1 linha\n",
        "testesomatoria2 = np.sum(Matrizinha, axis=0) # 0 Coluna\n",
        "\n",
        "print(f'Somatoria Linhas: {testesomatoria}')\n",
        "print(f'\\nSomatoria Colunas:{testesomatoria2}')"
      ]
    },
    {
      "cell_type": "markdown",
      "metadata": {
        "id": "_7ELGR0tc-Zl"
      },
      "source": [
        "**Exercício 4: Filtragem de Valores**\n",
        "\n",
        "Crie um array de 30 números inteiros aleatórios entre 0 e 50. Encontre e exiba todos os valores que são maiores que 25."
      ]
    },
    {
      "cell_type": "code",
      "execution_count": 61,
      "metadata": {
        "id": "GKMCRZQrdB9P"
      },
      "outputs": [
        {
          "name": "stdout",
          "output_type": "stream",
          "text": [
            "[37 43 12  8  9 11  5 15  0 16  1 12  7 45  6 25 50 20 37 18 20 11 42 28\n",
            " 29 14 50  4 23 23]\n",
            "\n",
            "Array dos Maiores que 25: [37 43 45 50 37 42 28 29 50]\n"
          ]
        }
      ],
      "source": [
        "import numpy as np \n",
        "\n",
        "np.random.seed(1)\n",
        "\n",
        "ary = np.random.randint(0,51,30)\n",
        "\n",
        "print(ary)\n",
        "\n",
        "print(f'\\nArray dos Maiores que 25: {ary[ary>25]}')"
      ]
    },
    {
      "cell_type": "markdown",
      "metadata": {
        "id": "WfgLU2IrdKQ6"
      },
      "source": [
        "**Exercício 5: Criação e Manipulação de Arrays Multidimensionais**\n",
        "\n",
        "Crie uma matriz 3x3x3 de números inteiros aleatórios entre 1 e 10. Calcule a soma total dos elementos e a soma cumulativa."
      ]
    },
    {
      "cell_type": "code",
      "execution_count": 68,
      "metadata": {
        "id": "tvws8aE_dTBv"
      },
      "outputs": [
        {
          "name": "stdout",
          "output_type": "stream",
          "text": [
            "Matriz 3D:\n",
            " [[[10  9  5]\n",
            "  [ 1  1  9]\n",
            "  [ 4  3  2]]\n",
            "\n",
            " [[ 9 10  7]\n",
            "  [ 1  5  7]\n",
            "  [ 5  5  8]]\n",
            "\n",
            " [[ 9 10  6]\n",
            "  [ 7  6  3]\n",
            "  [ 7  3  9]]]\n",
            "\n",
            "Soma Total: 161\n",
            "\n",
            "Soma Cumulativa:\n",
            " [[[ 10  19  24]\n",
            "  [ 25  26  35]\n",
            "  [ 39  42  44]]\n",
            "\n",
            " [[ 53  63  70]\n",
            "  [ 71  76  83]\n",
            "  [ 88  93 101]]\n",
            "\n",
            " [[110 120 126]\n",
            "  [133 139 142]\n",
            "  [149 152 161]]]\n"
          ]
        }
      ],
      "source": [
        "import numpy as np \n",
        "\n",
        "np.random.seed(21)\n",
        "\n",
        "matriz3d = np.random.randint(1,11,(3,3,3))\n",
        "somanormal = np.sum(matriz3d)\n",
        "somacumulativa = np.cumsum(matriz3d).reshape(3, 3, 3)\n",
        "\n",
        "print(f'Matriz 3D:\\n {matriz3d}\\n')\n",
        "print(f'Soma Total: {somanormal}\\n')\n",
        "print(f'Soma Cumulativa:\\n {somacumulativa}')"
      ]
    }
  ],
  "metadata": {
    "colab": {
      "provenance": []
    },
    "kernelspec": {
      "display_name": "Python 3",
      "name": "python3"
    },
    "language_info": {
      "codemirror_mode": {
        "name": "ipython",
        "version": 3
      },
      "file_extension": ".py",
      "mimetype": "text/x-python",
      "name": "python",
      "nbconvert_exporter": "python",
      "pygments_lexer": "ipython3",
      "version": "3.10.12"
    }
  },
  "nbformat": 4,
  "nbformat_minor": 0
}
