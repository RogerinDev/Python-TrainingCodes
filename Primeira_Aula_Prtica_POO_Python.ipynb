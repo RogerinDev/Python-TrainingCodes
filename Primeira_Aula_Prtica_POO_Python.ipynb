{
 "cells": [
  {
   "cell_type": "markdown",
   "metadata": {
    "id": "ZJIeJIsYL8tN"
   },
   "source": [
    "# **Introdução à Programação Orientada a Objetos (POO)**\n",
    "\n",
    "A Programação Orientada a Objetos (POO) é um paradigma de programação que organiza o código em objetos, que são instâncias de classes. Em vez de pensar em termos de funções e variáveis separadas (como em C), na POO você pensa em termos de entidades que possuem atributos (dados) e métodos (funções associadas).\n",
    "\n",
    "Nesse momento inicial você precisa lidar com os seguintes conceitos principais:\n",
    "\n",
    "*   Classe: uma definição ou modelo de um objeto.\n",
    "*   Objeto: uma instância de uma classe.\n",
    "*   Métodos: funções definidas dentro de uma classe.\n",
    "*   Atributos: variáveis que pertencem a um objeto.\n",
    "\n",
    "Para criar uma classe em Python, é preciso utilizar a palavra-chave class, seguida do nome da classe e dois pontos:\n"
   ]
  },
  {
   "cell_type": "code",
   "execution_count": 1,
   "metadata": {
    "id": "Lbqhm9ORMbFd"
   },
   "outputs": [
    {
     "name": "stdout",
     "output_type": "stream",
     "text": [
      "Nome: Gui Gay, Idade: 24, Email: guigayquedaobrioco@cagou.pau\n"
     ]
    }
   ],
   "source": [
    "# Definindo uma classe simples\n",
    "class Pessoa:\n",
    "    def __init__(self, nome, idade, email):\n",
    "        self.nome = nome\n",
    "        self.idade = idade\n",
    "        self.email = email \n",
    "\n",
    "    def exibir_info(self):\n",
    "        print(f'Nome: {self.nome}, Idade: {self.idade}, Email: {self.email}')\n",
    "\n",
    "# Criando uma instância da classe\n",
    "pessoa1 = Pessoa('Anao', 25, 'anaogameplay@hotmail.com')\n",
    "pessoa2 = Pessoa('Rogerio', 21, 'rogerinhootavio@hotmail.com')\n",
    "pessoa3 = Pessoa('Gui Gay', 24, 'guigayquedaobrioco@cagou.pau')\n",
    "pessoa3.exibir_info()  # Saída: Nome: Ana, Idade: 25\n"
   ]
  },
  {
   "cell_type": "markdown",
   "metadata": {
    "id": "195guif7NByD"
   },
   "source": [
    "Para instanciar uma classe, usa-se a mesma sintaxe de invocar uma função. Apenas finja que o objeto classe do exemplo é uma função sem parâmetros, que devolve uma nova instância da classe.\n",
    "A operação de instanciação (“invocar” um objeto classe) cria um objeto vazio. Muitas classes preferem criar novos objetos com um estado inicial predeterminado. Para tanto, a classe pode definir um método especial chamado _ _ init _ _\n",
    "o self é uma palavra reservada que se refere ao objeto atual e é utilizada para acessar os atributos e métodos de uma classe. O self é fundamental na programação orientada a objetos do Python. Quando um método é chamado em um objeto, o Python passa o próprio objeto como o primeiro argumento para o método, que é então atribuído ao parâmetro \"self\". O self é sempre o primeiro argumento a ser passado em um construtor e nos métodos de instâncias"
   ]
  },
  {
   "cell_type": "markdown",
   "metadata": {
    "id": "pdARdTyWNjT9"
   },
   "source": [
    "**Exercício 1**\n",
    "\n",
    "Vamos criar uma classe TV que representará um aparelho de televisão com atributos como canal e volume e métodos para alterar esses atributos (mudar_canal e ajustar_volume)."
   ]
  },
  {
   "cell_type": "code",
   "execution_count": 5,
   "metadata": {
    "id": "sX1HJMIOOGOt"
   },
   "outputs": [
    {
     "name": "stdout",
     "output_type": "stream",
     "text": [
      "Canal: Não Existe!\n",
      "Volume: 23\n"
     ]
    }
   ],
   "source": [
    "# Definindo uma classe TV, faça abaixo o código\n",
    "class TV: \n",
    "    def __init__(self,canal,volume):\n",
    "        self.canal = canal\n",
    "        self.volume = volume\n",
    "    \n",
    "    def mudar_canal(self,mudcanal):\n",
    "        if 1 <= mudcanal <= 100:\n",
    "            self.canal = mudcanal\n",
    "            print(f'Canal: {self.canal} ')\n",
    "        else:\n",
    "            print('Canal: Não Existe!')\n",
    "\n",
    "    def ajustar_volume(self,newvol):\n",
    "        if newvol > 100:\n",
    "            self.volume = 100\n",
    "        else:\n",
    "            self.volume = newvol\n",
    "        print(f\"Volume: {self.volume}\")\n",
    "\n",
    "\n",
    "# Criando uma instância da classe\n",
    "tv1 = TV(0,0)\n",
    "tv1.mudar_canal(int(input('Informe um canal: ')))\n",
    "tv1.ajustar_volume(int(input('Informe um Volume: ')))\n"
   ]
  },
  {
   "cell_type": "markdown",
   "metadata": {
    "id": "CGYb7GqwOU7j"
   },
   "source": [
    "**Construtores e Destruidores**\n",
    "O método __init__ é o construtor da classe, chamado quando uma instância é criada. O método __del__ é um destrutor chamado quando o objeto é destruído (automaticamente ou com del)."
   ]
  },
  {
   "cell_type": "code",
   "execution_count": 6,
   "metadata": {
    "id": "-doOojH1ObgA"
   },
   "outputs": [
    {
     "name": "stdout",
     "output_type": "stream",
     "text": [
      "Objeto criado com valor: 10\n",
      "Objeto com valor 10 foi destruído\n"
     ]
    }
   ],
   "source": [
    "class Exemplo:\n",
    "    def __init__(self, valor):\n",
    "        self.valor = valor\n",
    "        print(f'Objeto criado com valor: {self.valor}')\n",
    "\n",
    "    def __del__(self):\n",
    "        print(f'Objeto com valor {self.valor} foi destruído')\n",
    "\n",
    "# Criando e destruindo um objeto\n",
    "obj = Exemplo(10)\n",
    "del obj  # Chama o método __del__\n"
   ]
  },
  {
   "cell_type": "markdown",
   "metadata": {
    "id": "8bLtxfgjOq5e"
   },
   "source": [
    "**Exercício 2**\n",
    "\n",
    "Adicione um método __del__ à classe TV que imprime uma mensagem indicando que a TV foi desligada. Crie uma instância e depois a delete para testar."
   ]
  },
  {
   "cell_type": "code",
   "execution_count": 7,
   "metadata": {
    "id": "N-SrlJGcO4EO"
   },
   "outputs": [
    {
     "name": "stdout",
     "output_type": "stream",
     "text": [
      "TV ligada.\n",
      "TV DESLIGADA\n"
     ]
    }
   ],
   "source": [
    "class TV:\n",
    "    def __init__(self, canal=1, volume=10):\n",
    "        self.canal = canal\n",
    "        self.volume = volume\n",
    "        print('TV ligada.')\n",
    "    #Destrutor\n",
    "    def __del__(self):\n",
    "        print('TV DESLIGADA')\n",
    "\n",
    "\n",
    "# Criando e destruindo uma instância\n",
    "tv2 = TV(3, 20)\n",
    "del tv2  # Explicitamente chamando o destrutor\n"
   ]
  },
  {
   "cell_type": "markdown",
   "metadata": {
    "id": "mcwuaBcaPFaE"
   },
   "source": [
    "**Instanciando Objetos e Trabalhando com Vários Exemplares**\n",
    "\n",
    "É comum criar e manipular múltiplas instâncias de uma classe. Python permite variáveis de instância (específicas de um objeto) e variáveis de classe (compartilhadas por todas as instâncias)."
   ]
  },
  {
   "cell_type": "code",
   "execution_count": 10,
   "metadata": {
    "id": "vQg7GEwfPOa2"
   },
   "outputs": [
    {
     "name": "stdout",
     "output_type": "stream",
     "text": [
      "Total de carros: 2\n",
      "Carro: Toyota Corolla\n",
      "Carro: Honda Civic\n"
     ]
    }
   ],
   "source": [
    "class Carro:\n",
    "    contador = 0  # Variável de classe para contar instâncias\n",
    "\n",
    "    def __init__(self, marca, modelo):\n",
    "        self.marca = marca\n",
    "        self.modelo = modelo\n",
    "        Carro.contador += 1\n",
    "\n",
    "    def detalhes(self):\n",
    "        print(f'Carro: {self.marca} {self.modelo}')\n",
    "\n",
    "# Criando instâncias\n",
    "carro1 = Carro('Toyota', 'Corolla')\n",
    "carro2 = Carro('Honda', 'Civic')\n",
    "\n",
    "print(f'Total de carros: {Carro.contador}')  # Saída: Total de carros: 2\n",
    "carro1.detalhes()\n",
    "carro2.detalhes()\n"
   ]
  },
  {
   "cell_type": "markdown",
   "metadata": {
    "id": "7uTcQ1FePiuf"
   },
   "source": [
    "**Exercício 3**\n",
    "\n",
    "Adicione os atributos tamanho e marca à classe Televisao. Crie dois objetos Televisao e atribua tamanhos e marcas diferentes. Depois, imprima o valor desses atributos de forma a confirma a independência dos valores de cada instância (objeto).\n"
   ]
  },
  {
   "cell_type": "code",
   "execution_count": 24,
   "metadata": {
    "id": "vcC6ttD6PuT5"
   },
   "outputs": [
    {
     "name": "stdout",
     "output_type": "stream",
     "text": [
      "Atributos da TV 1:\n",
      " TAMANHO: 43\n",
      " MARCA:LG\n",
      "\n",
      "Atributos da TV 2:\n",
      " TAMANHO: 63\n",
      " MARCA:Philco\n",
      "\n"
     ]
    }
   ],
   "source": [
    "class TV:\n",
    "    NumTV = 0\n",
    "    def __init__(self,tamanho,marca):\n",
    "        self.volume = 0\n",
    "        self.canal = 0\n",
    "        self.tamanho = tamanho\n",
    "        self.marca = marca\n",
    "        TV.NumTV += 1\n",
    "        self.id = TV.NumTV\n",
    "    \n",
    "    def atributos(self):\n",
    "        print(f\"Atributos da TV {self.id}:\\n TAMANHO: {self.tamanho}\\n MARCA:{self.marca}\\n\")\n",
    "\n",
    "tv1 = TV(43,'LG')\n",
    "tv2 = TV(63,'Philco')\n",
    "\n",
    "\n",
    "tv1.atributos()\n",
    "tv2.atributos()\n"
   ]
  },
  {
   "cell_type": "markdown",
   "metadata": {
    "id": "YGi44IefP-Qt"
   },
   "source": [
    "**Exercício 4**\n",
    "\n",
    "Modifique a classe Televisao de forma que, se pedirmos para mudar o canal para baixo, além do mínimo, ela vá para o canal máximo. Se mudarmos para cima, além do canal máximo, que volte ao canal mínimo.\n",
    "\n"
   ]
  },
  {
   "cell_type": "code",
   "execution_count": 31,
   "metadata": {
    "id": "SzzqDQtWQI1J"
   },
   "outputs": [
    {
     "name": "stdout",
     "output_type": "stream",
     "text": [
      "80\n",
      "2\n"
     ]
    }
   ],
   "source": [
    "class Televisao:\n",
    "  def __init__(self, min, max):\n",
    "    self.ligada = False\n",
    "    self.canal = 2\n",
    "    self.cmin = min\n",
    "    self.cmax = max\n",
    "\n",
    "  def muda_canal_para_baixo(self):\n",
    "    if(self.canal-1>=self.cmin):\n",
    "      self.canal-=1\n",
    "    else:\n",
    "      self.canal = self.cmax\n",
    "\n",
    "  def muda_canal_para_cima(self):\n",
    "    if(self.canal+1<=self.cmax):\n",
    "      self.canal+=1\n",
    "    else:\n",
    "      self.canal = self.cmin\n",
    "\n",
    "tv = Televisao(1,99)\n",
    "\n",
    "for x in range (0, 120):\n",
    "  tv.muda_canal_para_baixo()\n",
    "print(tv.canal)\n",
    "\n",
    "for x in range (0, 120):\n",
    "  tv.muda_canal_para_cima()\n",
    "print(tv.canal)\n"
   ]
  },
  {
   "cell_type": "markdown",
   "metadata": {
    "id": "-YUvJWTSQr90"
   },
   "source": [
    "**Exercício 5**\n",
    "\n",
    "Utilizando o que aprendemos com funções, modifique o construtor da classe Televisao de forma min e max sejam parâmetros opcionais, onde min vale 2 e max vale 14, caso outro valor não seja passado.\n"
   ]
  },
  {
   "cell_type": "code",
   "execution_count": 45,
   "metadata": {
    "id": "LuoVnb87QvYB"
   },
   "outputs": [
    {
     "name": "stdout",
     "output_type": "stream",
     "text": [
      "23\n",
      "12\n"
     ]
    }
   ],
   "source": [
    "class TV:\n",
    "    def __init__(self,min=2,max=14):\n",
    "        self.ligada = False\n",
    "        self.canal = 2\n",
    "        self.min = min\n",
    "        self.max = max\n",
    "\n",
    "    def mudar_canal_cima(self):\n",
    "        if self.canal+1 <= self.max:\n",
    "            self.canal += 1\n",
    "        else:\n",
    "            self.canal = self.min\n",
    "\n",
    "    def mudar_canal_baixo(self):\n",
    "        if self.canal-1 >= self.min:\n",
    "            self.canal -= 1 \n",
    "        else:\n",
    "            self.canal = self.max\n",
    "\n",
    "tv1 = TV(1,99)\n",
    "tv2 = TV()\n",
    "\n",
    "\n",
    "for i in range(0,120):\n",
    "    tv1.mudar_canal_cima()\n",
    "print(tv1.canal)\n",
    "\n",
    "\n",
    "for i in range(0,120):\n",
    "    tv2.mudar_canal_baixo()\n",
    "print(tv2.canal)\n",
    "\n"
   ]
  },
  {
   "cell_type": "markdown",
   "metadata": {
    "id": "NOMmYIZcQ7Nd"
   },
   "source": [
    "**Exercício 6**\n",
    "Crie uma classe chamada Calculadora que possua um construtor que aceita dois argumentos não obrigatórios: x e y (se não fornecidos assumirão o valor padrão de zero). Esses argumentos representarão números que podem ser usados em operações matemáticas. A classe deve ter métodos para realizar as seguintes operações:\n",
    "* Soma: Um método chamado soma que retorna a soma de x e y.\n",
    "* Subtração: Um método chamado subtracao que retorna a subtração de x por y.\n",
    "* Multiplicação: Um método chamado multiplicacao que retorna a multiplicação de x por y.\n",
    "* Divisão: Um método chamado divisao que retorna a divisão de x por y. Certifique-se de verificar se y é zero e, se for, retorne uma mensagem de erro adequada.\n",
    "\n"
   ]
  },
  {
   "cell_type": "code",
   "execution_count": 5,
   "metadata": {
    "id": "R2WoACalRHOT"
   },
   "outputs": [
    {
     "name": "stdout",
     "output_type": "stream",
     "text": [
      "X: 4 Y: 6\n",
      "Soma: 10\n",
      "Subtração: -2\n",
      "Multiplicação: 24\n",
      "Divisão:  0.6666666666666666\n"
     ]
    }
   ],
   "source": [
    "class Calculadora:\n",
    "    def __init__(self, x=0, y=0):\n",
    "        self.x = x\n",
    "        self.y = y\n",
    "\n",
    "    def soma(self):\n",
    "        return self.x + self.y\n",
    "\n",
    "    def sub(self):\n",
    "        return self.x - self.y\n",
    "\n",
    "    def mult(self):\n",
    "        return self.x * self.y\n",
    "\n",
    "    def div(self):\n",
    "        if self.y == 0:\n",
    "            return print(\"Absurdo Matemático!\")\n",
    "        else:\n",
    "            return self.x / self.y\n",
    "\n",
    "    def imprimir_valores(self):\n",
    "        print(f'X: {self.x} Y: {self.y}')\n",
    "\n",
    "\n",
    "# Criando uma instância da Calculadora com argumentos não obrigatórios\n",
    "calc = Calculadora(int(input('X =')), int(input('Y =')))\n",
    "\n",
    "# Imprimindo os valores de x e y\n",
    "calc.imprimir_valores()\n",
    "\n",
    "# Realizando operações\n",
    "print(\"Soma:\", calc.soma())\n",
    "print(\"Subtração:\", calc.sub())\n",
    "print(\"Multiplicação:\", calc.mult())\n",
    "print(\"Divisão: \", calc.div())\n",
    "\n"
   ]
  }
 ],
 "metadata": {
  "colab": {
   "authorship_tag": "ABX9TyPxmrLNnrbgw1UBb4Og3Ijq",
   "provenance": []
  },
  "kernelspec": {
   "display_name": ".venv",
   "language": "python",
   "name": "python3"
  },
  "language_info": {
   "codemirror_mode": {
    "name": "ipython",
    "version": 3
   },
   "file_extension": ".py",
   "mimetype": "text/x-python",
   "name": "python",
   "nbconvert_exporter": "python",
   "pygments_lexer": "ipython3",
   "version": "3.11.2"
  }
 },
 "nbformat": 4,
 "nbformat_minor": 0
}
